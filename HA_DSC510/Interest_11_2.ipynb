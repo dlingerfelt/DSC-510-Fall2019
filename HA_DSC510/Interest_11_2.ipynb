{
 "cells": [
  {
   "cell_type": "markdown",
   "metadata": {
    "collapsed": true,
    "pycharm": {
     "name": "#%% md\n"
    }
   },
   "source": [
    "# Classes and Objects\n",
    "\n",
    "A class is an user-defined compound data type. Using class, we can develop a complicated data structure and create many instances of the class(objects) to store status in members(attributes or fields) and run actions on them. The member of a class is called a field and the function to modify the status of the field or take an actions is called a method. Let's create a Point class and instantiate it."
   ]
  },
  {
   "cell_type": "code",
   "execution_count": 1,
   "outputs": [
    {
     "name": "stdout",
     "text": [
      "<__main__.Point object at 0x0644D190>\n"
     ],
     "output_type": "stream"
    }
   ],
   "source": [
    "class Point(object):\n",
    "    pass\n",
    "\n",
    "point1 = Point()\n",
    "print(point1)"
   ],
   "metadata": {
    "collapsed": false,
    "pycharm": {
     "name": "#%%\n",
     "is_executing": false
    }
   }
  },
  {
   "cell_type": "markdown",
   "source": [
    "Point class has been created, but it does not have any member fields and methods yet. In order to instantiate the class, we would use Point() which is called a constructor. The reference id has been created and assigned to point1 variable.\n",
    "\n",
    "In order to add attributes(members) to the Point class object, we would use dot notation. A class has __dict__ special attribute which retrieve members in a dictionary type.\n",
    " "
   ],
   "metadata": {
    "collapsed": false
   }
  },
  {
   "cell_type": "code",
   "execution_count": 2,
   "outputs": [
    {
     "name": "stdout",
     "text": [
      "{'x': 3.4, 'y': 5.1}\n"
     ],
     "output_type": "stream"
    }
   ],
   "source": [
    "point1.x = 3.4\n",
    "point1.y = 5.1\n",
    "\n",
    "print(point1.__dict__)\n"
   ],
   "metadata": {
    "collapsed": false,
    "pycharm": {
     "name": "#%%\n",
     "is_executing": false
    }
   }
  }
 ],
 "metadata": {
  "kernelspec": {
   "display_name": "Python 3",
   "language": "python",
   "name": "python3"
  },
  "language_info": {
   "codemirror_mode": {
    "name": "ipython",
    "version": 2
   },
   "file_extension": ".py",
   "mimetype": "text/x-python",
   "name": "python",
   "nbconvert_exporter": "python",
   "pygments_lexer": "ipython2",
   "version": "2.7.6"
  },
  "pycharm": {
   "stem_cell": {
    "cell_type": "raw",
    "source": [],
    "metadata": {
     "collapsed": false
    }
   }
  }
 },
 "nbformat": 4,
 "nbformat_minor": 0
}