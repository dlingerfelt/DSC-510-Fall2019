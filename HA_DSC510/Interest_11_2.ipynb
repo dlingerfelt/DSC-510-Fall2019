{
 "cells": [
  {
   "cell_type": "markdown",
   "metadata": {
    "collapsed": true,
    "pycharm": {
     "name": "#%% md\n"
    }
   },
   "source": [
    "# Classes and Objects\n",
    "\n",
    "A class is a user-defined compound data type. Using class, we can develop a complicated data structure and create many instances of the class(objects) to store status in members(attributes or fields) and run actions on them. The member of a class is called a field and the function to modify the status of the field or take an action is called a method. Let's create a Point class and instantiate it."
   ]
  },
  {
   "cell_type": "code",
   "execution_count": 1,
   "metadata": {
    "pycharm": {
     "is_executing": false,
     "name": "#%%\n"
    }
   },
   "outputs": [
    {
     "name": "stdout",
     "output_type": "stream",
     "text": [
      "<__main__.Point object at 0x0644D190>\n"
     ]
    }
   ],
   "source": [
    "class Point(object):\n",
    "    pass\n",
    "\n",
    "point1 = Point()\n",
    "print(point1)"
   ]
  },
  {
   "cell_type": "markdown",
   "metadata": {},
   "source": [
    "Point class has been created, but it does not have any member fields and methods yet. In order to instantiate the class, we would use Point() which is called a constructor. The reference id has been created and assigned to point1 variable.\n",
    "\n",
    "In order to add attributes(members) to the Point class object, we would use dot notation. A class has __dict__ special attribute which retrieve members in a dictionary type.\n",
    " "
   ]
  },
  {
   "cell_type": "code",
   "execution_count": 2,
   "metadata": {
    "pycharm": {
     "is_executing": false,
     "name": "#%%\n"
    }
   },
   "outputs": [
    {
     "name": "stdout",
     "output_type": "stream",
     "text": [
      "{'x': 3.4, 'y': 5.1}\n"
     ]
    }
   ],
   "source": [
    "point1.x = 3.4\n",
    "point1.y = 5.1\n",
    "\n",
    "print(point1.__dict__)"
   ]
  },
  {
   "cell_type": "markdown",
   "metadata": {},
   "source": [
    "While we can add a new attribute using dot notation, we can also declare variables in the class. There are two types of variables: class variable and instance variable. The class variable can be accessed without creating an instance of the class while the instance variable can only be accessed through the instance of the class."
   ]
  },
  {
   "cell_type": "code",
   "execution_count": 20,
   "metadata": {
    "pycharm": {
     "is_executing": false,
     "name": "#%%\n"
    }
   },
   "outputs": [],
   "source": [
    "class Point(object):\n",
    "    # Initiate instance variable\n",
    "    class_var = 0\n",
    "    \n",
    "    def __init__(self, ins):\n",
    "        \"\"\"Initiate instance variable\"\"\"\n",
    "        self.ins_var = ins\n",
    "        \n",
    "    def increase_ins_var(self, num):\n",
    "        \"\"\"Increase instance variable by num\"\"\"\n",
    "        self.ins_var += num"
   ]
  },
  {
   "cell_type": "code",
   "execution_count": 27,
   "metadata": {
    "pycharm": {
     "is_executing": false,
     "name": "#%%\n"
    }
   },
   "outputs": [
    {
     "name": "stdout",
     "output_type": "stream",
     "text": [
      "10\n",
      "10\n"
     ]
    }
   ],
   "source": [
    "# class_var can be accessible without creating an instance of a class\n",
    "\n",
    "print(Point.class_var)\n",
    "Point.class_var = 10\n",
    "print(Point.class_var)"
   ]
  },
  {
   "cell_type": "code",
   "execution_count": 29,
   "metadata": {
    "pycharm": {
     "is_executing": false,
     "name": "#%%\n"
    }
   },
   "outputs": [
    {
     "name": "stdout",
     "output_type": "stream",
     "text": [
      "10\n"
     ]
    }
   ],
   "source": [
    "# class_var can also be accessible through the instance\n",
    "\n",
    "point2 = Point(1000)\n",
    "print(point2.class_var)"
   ]
  },
  {
   "cell_type": "code",
   "execution_count": 31,
   "metadata": {
    "pycharm": {
     "is_executing": false,
     "name": "#%%\n"
    }
   },
   "outputs": [
    {
     "name": "stdout",
     "output_type": "stream",
     "text": [
      "10\n",
      "20\n"
     ]
    }
   ],
   "source": [
    "# However, class_var of an instance is different from \n",
    "# class_var from the class.\n",
    "point2.class_var = 20\n",
    "print(Point.class_var)\n",
    "print(point2.class_var)"
   ]
  },
  {
   "cell_type": "code",
   "execution_count": null,
   "metadata": {
    "pycharm": {
     "name": "#%%\n"
    }
   },
   "outputs": [],
   "source": [
    "print(point2.ins_var)\n",
    "point2.increase_ins_var(1000)"
   ]
  },
  {
   "cell_type": "markdown",
   "metadata": {
    "pycharm": {
     "name": "#%% md\n"
    }
   },
   "source": [
    "Now, let's create a Rectangle class inherits the Point class. It will inherit member fields as well as all existing methods. Also, in the new class, we can add new members and methods as well as modify existing methods, which is class method overriding. "
   ]
  },
  {
   "cell_type": "code",
   "execution_count": 34,
   "metadata": {
    "pycharm": {
     "name": "#%%\n",
     "is_executing": false
    }
   },
   "outputs": [
    {
     "name": "stdout",
     "text": [
      "(0, 0)\n",
      "100\n",
      "1000\n"
     ],
     "output_type": "stream"
    }
   ],
   "source": [
    "class Point(object):\n",
    "    \n",
    "    def __init__(self, x, y):\n",
    "        self.x = x\n",
    "        self.y = y\n",
    "\n",
    "\n",
    "class Rectangle(Point):\n",
    "    \n",
    "    def __init__(self, x, y, width, height):\n",
    "        Point.__init__(self, x, y)\n",
    "        self.width = width\n",
    "        self.height = height\n",
    "    \n",
    "    def print_rect(self):\n",
    "        print((self.x, self.y))\n",
    "        print(self.width)\n",
    "        print(self.height)\n",
    "    \n",
    "rect = Rectangle(0, 0, 100, 1000)\n",
    "rect.print_rect()\n"
   ]
  },
  {
   "cell_type": "markdown",
   "source": [
    "The self is to reference the object of the class itself and used to get access to the instance variable. It doesn't have to be names self, but by convention we use self.\n",
    "\n",
    "References\n",
    "\n",
    "Severance. C. R. (2009). Python for Everybody. http://do1.dr-chuck.com/pythonlearn/EN_us/pythonlearn.pdf  \n",
    "https://www.w3schools.com/python/python_classes.asp\n"
   ],
   "metadata": {
    "collapsed": false
   }
  }
 ],
 "metadata": {
  "kernelspec": {
   "display_name": "Python 3",
   "language": "python",
   "name": "python3"
  },
  "language_info": {
   "codemirror_mode": {
    "name": "ipython",
    "version": 3
   },
   "file_extension": ".py",
   "mimetype": "text/x-python",
   "name": "python",
   "nbconvert_exporter": "python",
   "pygments_lexer": "ipython3",
   "version": "3.7.5"
  },
  "pycharm": {
   "stem_cell": {
    "cell_type": "raw",
    "source": [],
    "metadata": {
     "collapsed": false
    }
   }
  }
 },
 "nbformat": 4,
 "nbformat_minor": 1
}