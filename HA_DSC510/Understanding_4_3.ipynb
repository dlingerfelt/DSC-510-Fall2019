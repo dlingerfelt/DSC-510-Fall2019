{
 "cells": [
  {
   "cell_type": "markdown",
   "metadata": {
    "collapsed": true,
    "pycharm": {
     "name": "#%% md\n"
    }
   },
   "source": [
    "# Web Scraping #2\n",
    "\n",
    "There are many ways to scrap data from the web and using APIs is one of the best way to scarp data if available because APIs follow a standardized set of rules to produce information and also produce a standardized information such as JSON or XML. A data scientist would make a request to an API via HTTP for data and the API would return data in the form of JSON or XML. Some websites still support XML, but JSON becomes a new trend these days. \n",
    "\n",
    "## Method\n",
    "\n",
    "There are four ways to request information from a web server via HTTP:\n",
    "\n",
    "- GET: is what you use when you visit a website through the address bar in the browser. \n",
    "- POST: is what you use when you fill out a form or submit information. Entering username and password to login into your Google account is using the POST method.\n",
    "- PUT: is used to update an object or information from the server. For example, updating your personal information in your account is using the PUT method.\n",
    "- DELETE: is used to delete an object. \n",
    "\n",
    "## Authentication\n",
    "\n",
    "Some APIs require authentication to charge money per call or might offer services on a monthly subscription basis. Others use authentication to limit the number of calls per month or restrict a certain kind of information. All four methods requires a key or token to call servers.  \n",
    "\n",
    "## Requests\n",
    "\n",
    "One of the most common HTTP methods is GET. The GET method indicates that you’re trying to get or retrieve data from a specified resource. To make a GET request, invoke requests.get()."
   ]
  },
  {
   "cell_type": "code",
   "execution_count": 6,
   "outputs": [
    {
     "traceback": [
      "\u001b[1;31m---------------------------------------------------------------------------\u001b[0m",
      "\u001b[1;31mModuleNotFoundError\u001b[0m                       Traceback (most recent call last)",
      "\u001b[1;32m<ipython-input-6-fb75d33ba3e7>\u001b[0m in \u001b[0;36m<module>\u001b[1;34m\u001b[0m\n\u001b[1;32m----> 1\u001b[1;33m \u001b[1;32mimport\u001b[0m \u001b[0mrequests\u001b[0m\u001b[1;33m\u001b[0m\u001b[1;33m\u001b[0m\u001b[0m\n\u001b[0m\u001b[0;32m      2\u001b[0m \u001b[0mrequests\u001b[0m\u001b[1;33m.\u001b[0m\u001b[0mget\u001b[0m\u001b[1;33m(\u001b[0m\u001b[1;34m'https://api.github.com'\u001b[0m\u001b[1;33m)\u001b[0m\u001b[1;33m\u001b[0m\u001b[1;33m\u001b[0m\u001b[0m\n\u001b[0;32m      3\u001b[0m \u001b[1;33m\u001b[0m\u001b[0m\n",
      "\u001b[1;31mModuleNotFoundError\u001b[0m: No module named 'requests'"
     ],
     "ename": "ModuleNotFoundError",
     "evalue": "No module named 'requests'",
     "output_type": "error"
    }
   ],
   "source": [
    "import requests\n",
    "requests.get('https://api.github.com')\n"
   ],
   "metadata": {
    "collapsed": false,
    "pycharm": {
     "name": "#%%\n",
     "is_executing": false
    }
   }
  }
 ],
 "metadata": {
  "kernelspec": {
   "display_name": "Python 3",
   "language": "python",
   "name": "python3"
  },
  "language_info": {
   "codemirror_mode": {
    "name": "ipython",
    "version": 2
   },
   "file_extension": ".py",
   "mimetype": "text/x-python",
   "name": "python",
   "nbconvert_exporter": "python",
   "pygments_lexer": "ipython2",
   "version": "2.7.6"
  },
  "pycharm": {
   "stem_cell": {
    "cell_type": "raw",
    "source": [],
    "metadata": {
     "collapsed": false
    }
   }
  }
 },
 "nbformat": 4,
 "nbformat_minor": 0
}