{
 "cells": [
  {
   "cell_type": "markdown",
   "metadata": {
    "collapsed": true,
    "pycharm": {
     "name": "#%% md\n"
    }
   },
   "source": [
    "# Web Scraping\n",
    "\n",
    "Since the course's last project is building a web scraping program, I'de like to research and study in depth on web scraping programming. Basically, web scraper would do following tasks:\n",
    "\n",
    "- Retrieving HTML data from a domain name\n",
    "- Parsing that data for target information\n",
    "- Storing the target information\n",
    "- Moving to another web page to repeat the process \n",
    "\n",
    "## urlopen \n",
    "\n",
    "In order to perform web scraping effectively, the programmer may want to use several modules such as requests, selenium, and beautiful soup. However, I'd like to start with some basic modules. *urlopen* function is used to open a website and read it."
   ]
  },
  {
   "cell_type": "code",
   "execution_count": 6,
   "metadata": {
    "pycharm": {
     "is_executing": false,
     "name": "#%%\n"
    }
   },
   "outputs": [
    {
     "name": "stdout",
     "output_type": "stream",
     "text": [
      "b\"<!DOCTYPE html>\\n<html lang='en'>\\n    <head>\\n      \"\n"
     ]
    }
   ],
   "source": [
    "from urllib.request import urlopen\n",
    "web_link = 'https://openweathermap.org/'\n",
    "html = urlopen(web_link)\n",
    "print(html.read(50)) # Print only first 50 words"
   ]
  },
  {
   "cell_type": "markdown",
   "metadata": {},
   "source": [
    "## Beautiful Soup\n",
    "\n",
    "The useful library is BeautifulSoup. Since it's not a public library, the programmer will need to install it using pip.\n",
    "\n",
    "$pip install beautifulsoup4\n",
    "\n",
    "When importing the module, use following statement.\n",
    "\n",
    "from bs4 import Beautifulsoup4\n",
    "\n",
    "The beautifulsoup4 library provide useful tools to parse data from html documents. For example, we can parse a tag from a beautifulsoup object as shown below."
   ]
  },
  {
   "cell_type": "code",
   "execution_count": 2,
   "metadata": {
    "pycharm": {
     "is_executing": false,
     "name": "#%%\n"
    }
   },
   "outputs": [
    {
     "name": "stdout",
     "output_type": "stream",
     "text": [
      "<div class=\"mini-navbar mini-navbar-dark\">\n",
      "<div class=\"container\">\n",
      "<div class=\"row\">\n",
      "<div class=\"col-lg-9 col-md-9 col-sm-9 hidden-xs\">\n",
      "<a class=\"first-child\" href=\"//openweathermap.force.com/\" onclick=\"ga('send','event','link','click','supp');\" target=\"_blank\">\n",
      "<i class=\"fa fa-envelope\"> </i> <span class=\"hidden-xs\">Support Center</span></a>\n",
      "<a class=\"pull-right\" href=\"/home/sign_up\" onclick=\"_gaq.push(['_trackEvent', 'Navbar', 'Main', 'register']);\"><i class=\"fa fa-arrow-circle-down\"></i> Sign Up</a>\n",
      "<a class=\"pull-right\" href=\"/home/sign_in\" onclick=\"_gaq.push(['_trackEvent', 'Navbar', 'Main', 'signin']);\"><i class=\"fa fa-sign-in\"></i> Sign In</a>\n",
      "<a class=\"pull-right\" href=\"#\" id=\"nav-search\"><i class=\"fa fa-search\" onclick=\"_gaq.push(['_trackEvent', 'Navbar', 'Main', 'search']);\"></i> Weather in your city</a>\n",
      "<a class=\"pull-right hidden\" href=\"#\" id=\"nav-search-close\"><i class=\"fa fa-times\"></i></a>\n",
      "<!-- Search Form -->\n",
      "<form action=\"/find\" class=\"pull-right hidden\" id=\"nav-search-form\" method=\"get\" role=\"search\">\n",
      "<div class=\"input-group\">\n",
      "<input class=\"form-control\" id=\"q\" name=\"q\" placeholder=\"Search\" type=\"text\"/>\n",
      "<span class=\"input-group-btn\">\n",
      "<button class=\"btn btn-default\" type=\"submit\"><i class=\"fa fa-search\"></i></button>\n",
      "</span>\n",
      "</div>\n",
      "</form>\n",
      "</div>\n",
      "<div class=\"col-lg-3 col-md-3 col-sm-3 units-selector\">\n",
      "<label class=\"toggle candy blue\" onclick=\"\" style=\"width:100px;animation:none;position:fixed;top:0\">\n",
      "<input checked=\"checked\" id=\"units_check\" type=\"checkbox\"/>\n",
      "<p><span id=\"metric\">  °C</span><span id=\"imperial\">°F</span></p>\n",
      "<a class=\"slide-button\"></a><a class=\"slide-button\"></a>\n",
      "</label>\n",
      "</div>\n",
      "</div>\n",
      "</div>\n",
      "</div>\n"
     ]
    }
   ],
   "source": [
    "from urllib.request import urlopen\n",
    "from bs4 import BeautifulSoup\n",
    "\n",
    "web_link = 'https://openweathermap.org/'\n",
    "html = urlopen(web_link)\n",
    "bsObj = BeautifulSoup(html.read())\n",
    "print(bsObj.div)"
   ]
  },
  {
   "cell_type": "markdown",
   "metadata": {},
   "source": [
    "## Handling Connection Error\n",
    "\n",
    "There can be cases that websites are down or unreachable. Typically, there are two main error when opening a web page:\n",
    "\n",
    "- HTTPError: The page is not found\n",
    "- URLError: The server is not found\n",
    "\n",
    "Using try and except statement, we should wrap urlopen statement and catch any possible error."
   ]
  },
  {
   "cell_type": "code",
   "execution_count": 5,
   "metadata": {
    "pycharm": {
     "is_executing": false,
     "name": "#%%\n"
    }
   },
   "outputs": [
    {
     "name": "stdout",
     "output_type": "stream",
     "text": [
      "The server could not be found!\n"
     ]
    }
   ],
   "source": [
    "from urllib.request import urlopen\n",
    "from urllib.error import HTTPError\n",
    "from urllib.error import URLError\n",
    "from bs4 import BeautifulSoup\n",
    "\n",
    "web_link = 'https://unknownwebsiteorsomething.com'\n",
    "try:\n",
    "    html = urlopen(web_link)\n",
    "    bsObj = BeautifulSoup(html.read())\n",
    "    print(bsObj.div)\n",
    "except HTTPError as e:\n",
    "    print(\"The page could not be found!\")\n",
    "except URLError as e:\n",
    "    print(\"The server could not be found!\")\n",
    "    "
   ]
  },
  {
   "cell_type": "markdown",
   "metadata": {},
   "source": [
    "## Get Title of Website\n",
    "\n",
    "Below code would return either the title of the page or None if there is any problem. This code could be useful when documenting the title of the paper."
   ]
  },
  {
   "cell_type": "code",
   "execution_count": 6,
   "metadata": {
    "pycharm": {
     "is_executing": false,
     "name": "#%%\n"
    }
   },
   "outputs": [
    {
     "name": "stdout",
     "output_type": "stream",
     "text": [
      "The title of the page could not be found\n"
     ]
    }
   ],
   "source": [
    "from urllib.request import urlopen\n",
    "from urllib.error import HTTPError\n",
    "from urllib.error import URLError\n",
    "from bs4 import BeautifulSoup\n",
    "\n",
    "web_link = 'https://unknownwebsiteorsomething.com'\n",
    "\n",
    "def get_tile(url):\n",
    "    try:\n",
    "        html = urlopen(url)\n",
    "    except HTTPError:\n",
    "        return None\n",
    "    except URLError:\n",
    "        return None\n",
    "    try:\n",
    "        bsObj = BeautifulSoup(html.read())\n",
    "        title = bsObj.body.h1\n",
    "    except AttributeError:\n",
    "        return None\n",
    "    return title\n",
    "\n",
    "title = get_tile(web_link)\n",
    "if title is None :\n",
    "    print(\"The title of the page could not be found\")\n",
    "else:\n",
    "    print(title)\n",
    "    "
   ]
  },
  {
   "cell_type": "markdown",
   "metadata": {},
   "source": [
    "**References**  \n",
    "Beazley, D. & Jones, B. K. (2013). Python Cookbook. Sebastopol, CA: O’Reilly Media, Inc.  \n",
    "Mitchell, Ryan (2015). Web Scraping with Python. Sebastopol, CA: O’Reilly Media, Inc.  \n",
    "Severance. C. R. (2009). Python for Everybody. http://do1.dr-chuck.com/pythonlearn/EN_us/pythonlearn.pdf  \n",
    "https://www.w3schools.com/python/default.asp  \n",
    "\n"
   ]
  }
 ],
 "metadata": {
  "kernelspec": {
   "display_name": "Python 3",
   "language": "python",
   "name": "python3"
  },
  "language_info": {
   "codemirror_mode": {
    "name": "ipython",
    "version": 3
   },
   "file_extension": ".py",
   "mimetype": "text/x-python",
   "name": "python",
   "nbconvert_exporter": "python",
   "pygments_lexer": "ipython3",
   "version": "3.7.5"
  },
  "pycharm": {
   "stem_cell": {
    "cell_type": "raw",
    "metadata": {
     "collapsed": false
    },
    "source": []
   }
  }
 },
 "nbformat": 4,
 "nbformat_minor": 1
}
