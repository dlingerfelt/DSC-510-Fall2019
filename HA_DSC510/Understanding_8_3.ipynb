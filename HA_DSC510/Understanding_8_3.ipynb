{
 "cells": [
  {
   "cell_type": "markdown",
   "metadata": {
    "collapsed": true,
    "pycharm": {
     "name": "#%% md\n"
    }
   },
   "source": [
    "# Dictionary\n",
    "\n",
    "A dictionary is a data structure using key/value pairs in Python. A dictionary is similar to a list or a tuple in a way it contains multiple values in a single variable, but they are also fundamentally different because a dictionary is using a key for a value. In a list, a value is indexed by position so that the order of the elements is very important but since a value in a dictionary is indexed using a key, the order of the elements will not matter. A key in a dictionary must be unique. \n",
    "\n",
    "## Creation of A Dictionary\n",
    "\n",
    "We can create a dictionary as follows:"
   ]
  },
  {
   "cell_type": "code",
   "execution_count": 1,
   "outputs": [
    {
     "name": "stdout",
     "text": [
      "{'height': 175, 'weight': 70, 'ssn': '999-999-9999', 'inventory': ['apple', 'banana']}\n"
     ],
     "output_type": "stream"
    }
   ],
   "source": [
    "james = {\n",
    "    'height':175,\n",
    "    'weight':70,\n",
    "    'ssn':'999-999-9999',\n",
    "    'inventory':['apple', 'banana']\n",
    "}\n",
    "\n",
    "print(james)\n"
   ],
   "metadata": {
    "collapsed": false,
    "pycharm": {
     "name": "#%%\n",
     "is_executing": false
    }
   }
  },
  {
   "cell_type": "markdown",
   "source": [
    "We can get access to item using key with either square brackets or `get` method."
   ],
   "metadata": {
    "collapsed": false,
    "pycharm": {
     "name": "#%% md\n"
    }
   }
  },
  {
   "cell_type": "code",
   "execution_count": 5,
   "outputs": [
    {
     "name": "stdout",
     "text": [
      "175\n",
      "70\n"
     ],
     "output_type": "stream"
    }
   ],
   "source": [
    "print(james['height'])\n",
    "print(james.get('weight'))"
   ],
   "metadata": {
    "collapsed": false,
    "pycharm": {
     "name": "#%%\n",
     "is_executing": false
    }
   }
  },
  {
   "cell_type": "markdown",
   "source": [
    "Also, like a list, we can change a value for a key as follows:"
   ],
   "metadata": {
    "collapsed": false,
    "pycharm": {
     "name": "#%% md\n"
    }
   }
  },
  {
   "cell_type": "code",
   "execution_count": 6,
   "outputs": [
    {
     "name": "stdout",
     "text": [
      "180\n"
     ],
     "output_type": "stream"
    }
   ],
   "source": [
    "james['height'] = '180'\n",
    "print(james['height'])"
   ],
   "metadata": {
    "collapsed": false,
    "pycharm": {
     "name": "#%%\n",
     "is_executing": false
    }
   }
  },
  {
   "cell_type": "markdown",
   "source": [
    "Likewise, we can change values in the list inside the dictionary."
   ],
   "metadata": {
    "collapsed": false,
    "pycharm": {
     "name": "#%% md\n"
    }
   }
  },
  {
   "cell_type": "code",
   "execution_count": 8,
   "outputs": [
    {
     "name": "stdout",
     "text": [
      "['apple', 'banana', 'pineapple']\n"
     ],
     "output_type": "stream"
    }
   ],
   "source": [
    "james['inventory'].append('pineapple')\n",
    "print(james['inventory'])"
   ],
   "metadata": {
    "collapsed": false,
    "pycharm": {
     "name": "#%%\n",
     "is_executing": false
    }
   }
  },
  {
   "cell_type": "markdown",
   "source": [
    "Similar to a list and a tuple, we can loop through a dictionary. However, since a dictionary is made of key/value, it will only loop through keys. In order to get values, we will need to use either square brackets or method.\n"
   ],
   "metadata": {
    "collapsed": false
   }
  },
  {
   "cell_type": "code",
   "execution_count": 9,
   "outputs": [
    {
     "name": "stdout",
     "text": [
      "height\n",
      "weight\n",
      "ssn\n",
      "inventory\n"
     ],
     "output_type": "stream"
    }
   ],
   "source": [
    "# Loop through keys\n",
    "for key in james:\n",
    "    print(key)\n"
   ],
   "metadata": {
    "collapsed": false,
    "pycharm": {
     "name": "#%%\n",
     "is_executing": false
    }
   }
  },
  {
   "cell_type": "code",
   "execution_count": 14,
   "outputs": [
    {
     "name": "stdout",
     "text": [
      "180\n",
      "70\n",
      "999-999-9999\n",
      "['apple', 'banana', 'pineapple']\n"
     ],
     "output_type": "stream"
    }
   ],
   "source": [
    "# Get values\n",
    "for key in james:\n",
    "    print(james[key])"
   ],
   "metadata": {
    "collapsed": false,
    "pycharm": {
     "name": "#%%\n",
     "is_executing": false
    }
   }
  },
  {
   "cell_type": "code",
   "execution_count": 15,
   "outputs": [
    {
     "name": "stdout",
     "text": [
      "180\n",
      "70\n",
      "999-999-9999\n",
      "['apple', 'banana', 'pineapple']\n"
     ],
     "output_type": "stream"
    }
   ],
   "source": [
    "# or \n",
    "for key in james:\n",
    "    print(james.get(key))"
   ],
   "metadata": {
    "collapsed": false,
    "pycharm": {
     "name": "#%%\n",
     "is_executing": false
    }
   }
  },
  {
   "cell_type": "code",
   "execution_count": 16,
   "outputs": [
    {
     "name": "stdout",
     "text": [
      "180\n",
      "70\n",
      "999-999-9999\n",
      "['apple', 'banana', 'pineapple']\n"
     ],
     "output_type": "stream"
    }
   ],
   "source": [
    "# or\n",
    "for value in james.values():\n",
    "    print(value)"
   ],
   "metadata": {
    "collapsed": false,
    "pycharm": {
     "name": "#%%\n",
     "is_executing": false
    }
   }
  },
  {
   "cell_type": "markdown",
   "source": [
    "If we want to loop through key and value, then we can use item() method."
   ],
   "metadata": {
    "collapsed": false
   }
  },
  {
   "cell_type": "code",
   "execution_count": 17,
   "outputs": [
    {
     "name": "stdout",
     "text": [
      "height : 180\n",
      "weight : 70\n",
      "ssn : 999-999-9999\n",
      "inventory : ['apple', 'banana', 'pineapple']\n"
     ],
     "output_type": "stream"
    }
   ],
   "source": [
    "for key, value in james.items():\n",
    "    print(key, \":\", value)"
   ],
   "metadata": {
    "collapsed": false,
    "pycharm": {
     "name": "#%%\n",
     "is_executing": false
    }
   }
  },
  {
   "cell_type": "markdown",
   "source": [
    "We can check if a key exist in a dictionary using `in`. Similar to a list, we can use len() to check the length of a dictionary."
   ],
   "metadata": {
    "collapsed": false
   }
  },
  {
   "cell_type": "code",
   "execution_count": 18,
   "outputs": [
    {
     "name": "stdout",
     "text": [
      "Found it\n",
      "The length is: 4\n"
     ],
     "output_type": "stream"
    }
   ],
   "source": [
    "if 'weight' in james:\n",
    "    print(\"Found it\")\n",
    "    print(\"The length is:\", len(james))\n"
   ],
   "metadata": {
    "collapsed": false,
    "pycharm": {
     "name": "#%%\n",
     "is_executing": false
    }
   }
  },
  {
   "cell_type": "markdown",
   "source": [
    "We can simply add a new item to a dictionary using square brackets and assignment."
   ],
   "metadata": {
    "collapsed": false
   }
  },
  {
   "cell_type": "code",
   "execution_count": 20,
   "outputs": [
    {
     "name": "stdout",
     "text": [
      "height : 180\n",
      "weight : 70\n",
      "ssn : 999-999-9999\n",
      "inventory : ['apple', 'banana', 'pineapple']\n",
      "balance : 456000\n"
     ],
     "output_type": "stream"
    }
   ],
   "source": [
    "james['balance'] = 456000\n",
    "for key, value in james.items():\n",
    "    print(key, \":\", value)"
   ],
   "metadata": {
    "collapsed": false,
    "pycharm": {
     "name": "#%%\n",
     "is_executing": false
    }
   }
  },
  {
   "cell_type": "markdown",
   "source": [
    "There are two ways to remove an item from a dictionary: pop and del. Pop will remove an item with a key provided, then it will return the value. Del will just remove the item with the value. Del also can delete the dictionary while \n"
   ],
   "metadata": {
    "collapsed": false
   }
  },
  {
   "cell_type": "code",
   "execution_count": 21,
   "outputs": [
    {
     "name": "stdout",
     "text": [
      "height : 180\n",
      "weight : 70\n",
      "ssn : 999-999-9999\n",
      "inventory : ['apple', 'banana', 'pineapple']\n",
      "456000\n"
     ],
     "output_type": "stream"
    }
   ],
   "source": [
    "balance = james.pop('balance')\n",
    "for key, value in james.items():\n",
    "    print(key, \":\", value)\n",
    "print(balance)"
   ],
   "metadata": {
    "collapsed": false,
    "pycharm": {
     "name": "#%%\n",
     "is_executing": false
    }
   }
  },
  {
   "cell_type": "code",
   "execution_count": 22,
   "outputs": [
    {
     "name": "stdout",
     "text": [
      "height : 180\n",
      "weight : 70\n",
      "inventory : ['apple', 'banana', 'pineapple']\n"
     ],
     "output_type": "stream"
    }
   ],
   "source": [
    "del james['ssn']\n",
    "for key, value in james.items():\n",
    "    print(key, \":\", value)\n"
   ],
   "metadata": {
    "collapsed": false,
    "pycharm": {
     "name": "#%%\n",
     "is_executing": false
    }
   }
  }
 ],
 "metadata": {
  "kernelspec": {
   "display_name": "Python 3",
   "language": "python",
   "name": "python3"
  },
  "language_info": {
   "codemirror_mode": {
    "name": "ipython",
    "version": 2
   },
   "file_extension": ".py",
   "mimetype": "text/x-python",
   "name": "python",
   "nbconvert_exporter": "python",
   "pygments_lexer": "ipython2",
   "version": "2.7.6"
  },
  "pycharm": {
   "stem_cell": {
    "cell_type": "raw",
    "source": [],
    "metadata": {
     "collapsed": false
    }
   }
  }
 },
 "nbformat": 4,
 "nbformat_minor": 0
}