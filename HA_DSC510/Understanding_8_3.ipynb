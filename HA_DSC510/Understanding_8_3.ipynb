{
 "cells": [
  {
   "cell_type": "markdown",
   "metadata": {
    "collapsed": true,
    "pycharm": {
     "name": "#%% md\n"
    }
   },
   "source": [
    "# Dictionary\n",
    "\n",
    "A dictionary is a data structure using key/value pairs in Python. A dictionary is similar to a list or a tuple in a way it contains multiple values in a single variable, but they are also fundamentally different because a dictionary is using a key for a value. In a list, a value is indexed by position so that the order of the elements is very important but since a value in a dictionary is indexed using a key, the order of the elements will not matter. A key in a dictionary must be unique. \n",
    "\n",
    "## Creation of A Dictionary\n",
    "\n",
    "\n",
    "\n"
   ]
  }
 ],
 "metadata": {
  "kernelspec": {
   "display_name": "Python 3",
   "language": "python",
   "name": "python3"
  },
  "language_info": {
   "codemirror_mode": {
    "name": "ipython",
    "version": 2
   },
   "file_extension": ".py",
   "mimetype": "text/x-python",
   "name": "python",
   "nbconvert_exporter": "python",
   "pygments_lexer": "ipython2",
   "version": "2.7.6"
  },
  "pycharm": {
   "stem_cell": {
    "cell_type": "raw",
    "source": [],
    "metadata": {
     "collapsed": false
    }
   }
  }
 },
 "nbformat": 4,
 "nbformat_minor": 0
}