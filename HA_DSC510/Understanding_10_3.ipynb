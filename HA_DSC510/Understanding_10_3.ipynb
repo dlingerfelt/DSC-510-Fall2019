{
 "cells": [
  {
   "cell_type": "markdown",
   "metadata": {
    "collapsed": true,
    "pycharm": {
     "name": "#%% md\n"
    }
   },
   "source": [
    "# Networked Programs II\n",
    "\n",
    "## Retrieving web pages with urllib\n",
    "\n",
    "In 9.2 Interest, I used the manual way to send and receive data over HTTP using socket module. The codes was not intuitive due to HTTP protocol and parsing data needed extra steps to clean up the data. There is a standard library named urllib makes it easy to retrieve data from the web. Since urllib handles a web page like a file, it will take care of HTTP protocol and cleansing up header details. The code using urllib becomes much simpler and easier to read.\n"
   ]
  },
  {
   "cell_type": "code",
   "execution_count": 2,
   "outputs": [
    {
     "name": "stdout",
     "text": [
      "b'But soft what light through yonder window breaks\\n'\n",
      "b'It is the east and Juliet is the sun\\n'\n",
      "b'Arise fair sun and kill the envious moon\\n'\n",
      "b'Who is already sick and pale with grief\\n'\n"
     ],
     "output_type": "stream"
    }
   ],
   "source": [
    "import urllib.request as request\n",
    "\n",
    "res = request.urlopen('http://data.pr4e.org/romeo.txt')\n",
    "for line in res:\n",
    "    print(line)\n"
   ],
   "metadata": {
    "collapsed": false,
    "pycharm": {
     "name": "#%%\n",
     "is_executing": false
    }
   }
  }
 ],
 "metadata": {
  "kernelspec": {
   "display_name": "Python 3",
   "language": "python",
   "name": "python3"
  },
  "language_info": {
   "codemirror_mode": {
    "name": "ipython",
    "version": 2
   },
   "file_extension": ".py",
   "mimetype": "text/x-python",
   "name": "python",
   "nbconvert_exporter": "python",
   "pygments_lexer": "ipython2",
   "version": "2.7.6"
  },
  "pycharm": {
   "stem_cell": {
    "cell_type": "raw",
    "source": [],
    "metadata": {
     "collapsed": false
    }
   }
  }
 },
 "nbformat": 4,
 "nbformat_minor": 0
}