{
 "cells": [
  {
   "cell_type": "markdown",
   "metadata": {
    "collapsed": true,
    "pycharm": {
     "name": "#%% md\n"
    }
   },
   "source": [
    "# Networked programs\n",
    "\n",
    "As we are getting into Web Service chapters, I felt the level of difficulty in coding was dramatically increased. Not only learning a new framework for web service is beyond the basic syntax, but also it seems I would need to understand HTTP protocols, networks, and web services concepts etc. I've skimmed through chapter 12 of the textbook, however I couldn't say I completely understand the chapter. So instead of reading it more, I figured hands-on practicing might help.\n",
    "\n",
    "## The world's simplest web browser\n",
    "\n",
    "`http://data.pr4e.org/` is a simple website that has some files. Socket module is a built-in module that help create network connections and retrieve data using socket. It is actually providing two-way connections so that users can send data as well. In the below codes, we will create a socket object and create a connection to the website. Then, we will send a GET commend to retrieve romeo.txt file. "
   ]
  },
  {
   "cell_type": "code",
   "execution_count": 11,
   "outputs": [
    {
     "data": {
      "text/plain": "47"
     },
     "metadata": {},
     "output_type": "execute_result",
     "execution_count": 11
    }
   ],
   "source": [
    "import socket\n",
    "\n",
    "mysock = socket.socket(socket.AF_INET, socket.SOCK_STREAM)\n",
    "mysock.connect(('data.pr4e.org', 80))\n",
    "cmd = 'GET http://data.pr4e.org/romeo.txt HTTP/1.0\\r\\n\\r\\n'.encode()\n",
    "mysock.send(cmd)"
   ],
   "metadata": {
    "collapsed": false,
    "pycharm": {
     "name": "#%%\n",
     "is_executing": false
    }
   }
  },
  {
   "cell_type": "markdown",
   "source": [
    "Once we send the commend, then we will need to receive the file over the socket. The program below receives data in 10 character chunks and adds a space after the line."
   ],
   "metadata": {
    "collapsed": false,
    "pycharm": {
     "name": "#%% md\n"
    }
   }
  },
  {
   "cell_type": "code",
   "execution_count": 12,
   "outputs": [
    {
     "name": "stdout",
     "text": [
      "HTTP/1.1 2 00 OK\r\n",
      "Dat e: Wed, 12  Feb 2020  20:55:02 G MT\r\n",
      "Server : Apache/2 .4.18 (Ubu ntu)\r\n",
      "Last -Modified:  Sat, 13 M ay 2017 11 :22:22 GMT \r\n",
      "ETag: \"a 7-54f66092 45537\"\r\n",
      "Ac cept-Range s: bytes\r\n",
      " Content-Le ngth: 167\n",
      "Cache-Con trol: max- age=0, no- cache, no- store, mus t-revalida te\r\n",
      "Pragma : no-cache \r\n",
      "Expires:  Wed, 11 J an 1984 05 :00:00 GMT \r\n",
      " onnecti on: close\n",
      "Content-T ype: text/ plain\r\n",
      "\r\n",
      "B ut soft wh at light t hrough yon der window  breaks\n",
      "It  is the ea st and Jul iet is the  sun\n",
      "Arise  fair sun  and kill t he envious  moon\n",
      "Who  is already  sick and  pale with  grief\n",
      " "
     ],
     "output_type": "stream"
    }
   ],
   "source": [
    "while True:\n",
    "    data = mysock.recv(10)\n",
    "    if len(data) < 1:\n",
    "        break\n",
    "    print(data.decode(), end=' ')"
   ],
   "metadata": {
    "collapsed": false,
    "pycharm": {
     "name": "#%%\n",
     "is_executing": false
    }
   }
  },
  {
   "cell_type": "markdown",
   "source": [
    "## Retrieve an image over HTTP\n"
   ],
   "metadata": {
    "collapsed": false
   }
  },
  {
   "cell_type": "code",
   "execution_count": 19,
   "outputs": [
    {
     "name": "stdout",
     "text": [
      "78840 78840\n",
      "11680 90520\n",
      "52560 143080\n",
      "87528 230608\n"
     ],
     "output_type": "stream"
    }
   ],
   "source": [
    "import socket\n",
    "import time\n",
    "\n",
    "mysock = socket.socket(socket.AF_INET, socket.SOCK_STREAM)\n",
    "mysock.connect(('data.pr4e.org', 80))\n",
    "cmd = b'GET http://data.pr4e.org/cover3.jpg HTTP/1.0\\r\\n\\r\\n'\n",
    "mysock.send(cmd)\n",
    "\n",
    "count = 0\n",
    "picture = b\"\"\n",
    "\n",
    "while True:\n",
    "    data = mysock.recv(100000)\n",
    "    if len(data) < 1:\n",
    "        break\n",
    "    count = count + len(data)\n",
    "    print(len(data), count)\n",
    "    picture = picture + data\n",
    "\n",
    "mysock.close()"
   ],
   "metadata": {
    "collapsed": false,
    "pycharm": {
     "name": "#%%\n",
     "is_executing": false
    }
   }
  },
  {
   "cell_type": "code",
   "execution_count": 22,
   "outputs": [
    {
     "name": "stdout",
     "text": [
      "Header Length: 394\n",
      "HTTP/1.1 200 OK\r\n",
      "Date: Wed, 12 Feb 2020 22:14:30 GMT\r\n",
      "Server: Apache/2.4.18 (Ubuntu)\r\n",
      "Last-Modified: Mon, 15 May 2017 12:27:40 GMT\r\n",
      "ETag: \"38342-54f8f2e5b6277\"\r\n",
      "Accept-Ranges: bytes\r\n",
      "Content-Length: 230210\r\n",
      "Vary: Accept-Encoding\r\n",
      "Cache-Control: max-age=0, no-cache, no-store, must-revalidate\r\n",
      "Pragma: no-cache\r\n",
      "Expires: Wed, 11 Jan 1984 05:00:00 GMT\r\n",
      "Connection: close\r\n",
      "Content-Type: image/jpeg\n"
     ],
     "output_type": "stream"
    }
   ],
   "source": [
    "pos = picture.find(b\"\\r\\n\\r\\n\")\n",
    "print(\"Header Length:\", pos)\n",
    "print(picture[:pos].decode())\n"
   ],
   "metadata": {
    "collapsed": false,
    "pycharm": {
     "name": "#%%\n",
     "is_executing": false
    }
   }
  },
  {
   "cell_type": "code",
   "execution_count": 24,
   "outputs": [],
   "source": [
    "picture = picture[pos+4:]\n",
    "fhand = open(\"stuff.jpg\", \"wb\")\n",
    "fhand.write(picture)\n",
    "fhand.close()\n"
   ],
   "metadata": {
    "collapsed": false,
    "pycharm": {
     "name": "#%%\n",
     "is_executing": false
    }
   }
  }
 ],
 "metadata": {
  "kernelspec": {
   "display_name": "Python 3",
   "language": "python",
   "name": "python3"
  },
  "language_info": {
   "codemirror_mode": {
    "name": "ipython",
    "version": 2
   },
   "file_extension": ".py",
   "mimetype": "text/x-python",
   "name": "python",
   "nbconvert_exporter": "python",
   "pygments_lexer": "ipython2",
   "version": "2.7.6"
  },
  "pycharm": {
   "stem_cell": {
    "cell_type": "raw",
    "source": [],
    "metadata": {
     "collapsed": false
    }
   }
  }
 },
 "nbformat": 4,
 "nbformat_minor": 0
}