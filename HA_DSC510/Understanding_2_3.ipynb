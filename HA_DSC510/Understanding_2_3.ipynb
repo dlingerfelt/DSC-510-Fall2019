{
 "cells": [
  {
   "cell_type": "markdown",
   "source": [
    "# 2.3 Understanding\n",
    "\n",
    "## Combining and Concatenating Strings\n",
    "\n",
    "As a data scientist needs to handle text data in many data science projects, it is beneficial to learn how to manipulate string data. The easiest way to concatenate string is to use '+' operator.\n"
   ],
   "metadata": {
    "collapsed": false
   }
  },
  {
   "cell_type": "code",
   "execution_count": 5,
   "outputs": [
    {
     "name": "stdout",
     "text": [
      "Introduction to Programming\n"
     ],
     "output_type": "stream"
    }
   ],
   "source": [
    "a = [\"Introduction\", \"to\", \"Programming\"]\n",
    "\n",
    "d = a[0] + \" \" + a[1] + \" \" + a[2]\n",
    "print(d)"
   ],
   "metadata": {
    "collapsed": false,
    "pycharm": {
     "name": "#%%\n",
     "is_executing": false
    }
   }
  },
  {
   "cell_type": "markdown",
   "source": [
    "Or you might want to combine the string data in the list using a loop as shown below:\n"
   ],
   "metadata": {
    "collapsed": false,
    "pycharm": {
     "name": "#%% md\n"
    }
   }
  },
  {
   "cell_type": "code",
   "execution_count": 7,
   "outputs": [
    {
     "name": "stdout",
     "text": [
      "Introduction to Programming \n"
     ],
     "output_type": "stream"
    }
   ],
   "source": [
    "def combine(ls):\n",
    "    st = \"\"\n",
    "    for el in ls:\n",
    "        st += el + \" \"\n",
    "    return st\n",
    "\n",
    "combined = combine(a)\n",
    "print(combined)\n",
    "\n"
   ],
   "metadata": {
    "collapsed": false,
    "pycharm": {
     "name": "#%%\n",
     "is_executing": false
    }
   }
  },
  {
   "cell_type": "markdown",
   "source": [
    "However, using the '+' operator in joining multiple strings is told to be inefficient because the memory copies and garbage collection occurs. In this case, using join() method is more efficient. join() is a method on string class. That's why the user need to add .join() after string object. This seems little strange at glance, but when you think about the fact that join() is a method, then it will start making sense. Separator will need to locate inside the single quotation mark, then followed by .join() method. Inside the parenthesis, throw in an object that contains a list of strings.\n",
    " "
   ],
   "metadata": {
    "collapsed": false,
    "pycharm": {
     "name": "#%% md\n"
    }
   }
  },
  {
   "cell_type": "code",
   "execution_count": 9,
   "outputs": [
    {
     "name": "stdout",
     "text": [
      "IntroductiontoProgramming\nIntroduction to Programming\nIntroduction-to-Programming\n"
     ],
     "output_type": "stream"
    }
   ],
   "source": [
    "print(''.join(a))\n",
    "print(' '.join(a))\n",
    "print('-'.join(a))\n"
   ],
   "metadata": {
    "collapsed": false,
    "pycharm": {
     "name": "#%%\n",
     "is_executing": false
    }
   }
  },
  {
   "cell_type": "markdown",
   "source": [
    "## String Format\n",
    "\n",
    "Another useful method is format(). The format() method allows you to format selected parts of a string and control the parts' values. To control such values, add placeholders (curly brackets {}) in the text, and run the values through the format() method.\n"
   ],
   "metadata": {
    "collapsed": false
   }
  },
  {
   "cell_type": "code",
   "execution_count": 10,
   "outputs": [
    {
     "name": "stdout",
     "text": [
      "I am 50 years old\n"
     ],
     "output_type": "stream"
    }
   ],
   "source": [
    "stringVar = \"I am {} years old\"\n",
    "age = 50\n",
    "print(stringVar.format(50))"
   ],
   "metadata": {
    "collapsed": false,
    "pycharm": {
     "name": "#%%\n",
     "is_executing": false
    }
   }
  },
  {
   "cell_type": "code",
   "execution_count": 11,
   "outputs": [
    {
     "name": "stdout",
     "text": [
      "I am 34 years old\n"
     ],
     "output_type": "stream"
    }
   ],
   "source": [
    "age = 34\n",
    "print(\"I am {} years old\".format(age))\n",
    "\n"
   ],
   "metadata": {
    "collapsed": false,
    "pycharm": {
     "name": "#%%\n",
     "is_executing": false
    }
   }
  },
  {
   "cell_type": "markdown",
   "source": [
    "You can also change the format of values by adding parameters inside the curly brackets."
   ],
   "metadata": {
    "collapsed": false
   }
  },
  {
   "cell_type": "code",
   "execution_count": 18,
   "outputs": [
    {
     "name": "stdout",
     "text": [
      "I am 34 years old\nI am 34.000000 years old\nI am 34.0 years old\nI am 34.00 years old\n"
     ],
     "output_type": "stream"
    }
   ],
   "source": [
    "age = 34\n",
    "print(\"I am {:d} years old\".format(age))\n",
    "print(\"I am {:f} years old\".format(age))\n",
    "print(\"I am {:.1f} years old\".format(age))\n",
    "print(\"I am {:.2f} years old\".format(age))\n",
    "\n"
   ],
   "metadata": {
    "collapsed": false,
    "pycharm": {
     "name": "#%%\n",
     "is_executing": false
    }
   }
  },
  {
   "cell_type": "markdown",
   "source": [
    "You can also control more than one part of the sting using placeholder, number index, and named index."
   ],
   "metadata": {
    "collapsed": false
   }
  },
  {
   "cell_type": "code",
   "execution_count": 37,
   "outputs": [
    {
     "data": {
      "text/plain": "'I am 23 years old, 5.7 tall, and 78.34 kg.'"
     },
     "metadata": {},
     "output_type": "execute_result",
     "execution_count": 37
    }
   ],
   "source": [
    "#Placeholder\n",
    "age, height, weight = 23, 5.67, 78.34\n",
    "\n",
    "stringVar = \"I am {:d} years old, {:.1f} tall, and {:.2f} kg.\"\n",
    "stringVar.format(age, height, weight)\n",
    "\n"
   ],
   "metadata": {
    "collapsed": false,
    "pycharm": {
     "name": "#%%\n",
     "is_executing": false
    }
   }
  },
  {
   "cell_type": "code",
   "execution_count": 39,
   "outputs": [
    {
     "data": {
      "text/plain": "'I am 23 years old, 5.7 tall, and 78.34 kg. My brother has the same weight, 78.34'"
     },
     "metadata": {},
     "output_type": "execute_result",
     "execution_count": 39
    }
   ],
   "source": [
    "#Number index\n",
    "stringVar = \"I am {0:d} years old, {1:.1f} tall, and {2:.2f} kg. My brother has the same weight, {2:.2f}\"\n",
    "stringVar.format(age, height, weight)"
   ],
   "metadata": {
    "collapsed": false,
    "pycharm": {
     "name": "#%%\n",
     "is_executing": false
    }
   }
  },
  {
   "cell_type": "code",
   "execution_count": 42,
   "outputs": [
    {
     "data": {
      "text/plain": "'I am 23 years old, 176 tall, and 90 kg. My brother has the same weight, 90'"
     },
     "metadata": {},
     "output_type": "execute_result",
     "execution_count": 42
    }
   ],
   "source": [
    "#Named index\n",
    "\n",
    "stringVar = \"I am {age} years old, {height} tall, and {weight} kg. My brother has the same weight, {weight}\"\n",
    "stringVar.format(age = 23, height = 176, weight = 90)\n"
   ],
   "metadata": {
    "collapsed": false,
    "pycharm": {
     "name": "#%%\n",
     "is_executing": false
    }
   }
  }
 ],
 "metadata": {
  "kernelspec": {
   "display_name": "Python 3",
   "language": "python",
   "name": "python3"
  },
  "language_info": {
   "codemirror_mode": {
    "name": "ipython",
    "version": 2
   },
   "file_extension": ".py",
   "mimetype": "text/x-python",
   "name": "python",
   "nbconvert_exporter": "python",
   "pygments_lexer": "ipython2",
   "version": "2.7.6"
  },
  "pycharm": {
   "stem_cell": {
    "cell_type": "raw",
    "source": [],
    "metadata": {
     "collapsed": false
    }
   }
  }
 },
 "nbformat": 4,
 "nbformat_minor": 0
}