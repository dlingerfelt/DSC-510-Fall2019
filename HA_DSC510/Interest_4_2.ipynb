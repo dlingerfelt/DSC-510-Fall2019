{
 "cells": [
  {
   "cell_type": "markdown",
   "metadata": {},
   "source": [
    "# Functions\n",
    "\n",
    "##  Boolean Functions\n",
    "\n",
    "A Boolean function returns boolean values which are *True* or *False*. It is very useful when you want to encapsulate a complicated test logic inside a function. For example, when a program receive an input from a user, the program needs to test if the user enter only valid values. The below code will test if a number is positive.\n"
   ]
  },
  {
   "cell_type": "code",
   "execution_count": 35,
   "metadata": {
    "pycharm": {
     "name": "#%%\n"
    }
   },
   "outputs": [
    {
     "name": "stdout",
     "output_type": "stream",
     "text": [
      "False\n",
      "True\n"
     ]
    }
   ],
   "source": [
    "def isPositive(x):\n",
    "    if x < 0:\n",
    "        return False\n",
    "    else:\n",
    "        return True\n",
    "    \n",
    "num1 = -1\n",
    "num2 = 1\n",
    "print(isPositive(num1))\n",
    "print(isPositive(num2))"
   ]
  },
  {
   "cell_type": "markdown",
   "metadata": {},
   "source": [
    "Then, below code can be re-written."
   ]
  },
  {
   "cell_type": "code",
   "execution_count": 36,
   "metadata": {
    "pycharm": {
     "name": "#%%\n"
    }
   },
   "outputs": [
    {
     "name": "stdout",
     "output_type": "stream",
     "text": [
      "Enter the number of feet: 6\n",
      "6\n"
     ]
    }
   ],
   "source": [
    "feet = 0\n",
    "\n",
    "while True:\n",
    "    feet = int(input(\"Enter the number of feet: \"))\n",
    "    if feet >= 0:\n",
    "        break\n",
    "        \n",
    "print(feet)"
   ]
  },
  {
   "cell_type": "code",
   "execution_count": 37,
   "metadata": {
    "pycharm": {
     "name": "#%%\n"
    }
   },
   "outputs": [
    {
     "name": "stdout",
     "output_type": "stream",
     "text": [
      "Enter the number of feet: -4\n",
      "Enter the number of feet: 7\n",
      "7\n"
     ]
    }
   ],
   "source": [
    "feet = 0\n",
    "positive = True\n",
    "\n",
    "while True:\n",
    "    feet = int(input(\"Enter the number of feet: \"))\n",
    "    if isPositive(feet):\n",
    "        break\n",
    "\n",
    "print(feet)"
   ]
  },
  {
   "cell_type": "markdown",
   "metadata": {},
   "source": [
    "## Recursion\n",
    "\n",
    "Recursion is a way of programming or coding a problem, in which a function calls itself one or more times in its body. Usually, it is returning the return value of this function call. If a function definition fulfils the condition of recursion, we call this function a recursive function. Let's build a factorial function to calculate factorials.\n",
    "\n",
    "0! = 1\n",
    "n! = n * (n-1)!"
   ]
  },
  {
   "cell_type": "code",
   "execution_count": 38,
   "metadata": {
    "pycharm": {
     "name": "#%%\n"
    }
   },
   "outputs": [
    {
     "data": {
      "text/plain": [
       "120"
      ]
     },
     "execution_count": 38,
     "metadata": {},
     "output_type": "execute_result"
    }
   ],
   "source": [
    "def factorial(n):\n",
    "    if n == 0:\n",
    "        return 1\n",
    "    else:\n",
    "        result = n * factorial(n-1)\n",
    "        return result\n",
    "\n",
    "factorial(5)"
   ]
  },
  {
   "cell_type": "markdown",
   "metadata": {},
   "source": [
    "## Input Type Checking\n",
    "\n",
    "Often, a function needs a certain type of data type. For the factorial function, integer input data type is needed, otherwise the function would't produce the desired outcome. The one of techniques to handle this issue is to use isinstance function. Then, the code can be modified as below:\n"
   ]
  },
  {
   "cell_type": "code",
   "execution_count": 39,
   "metadata": {
    "pycharm": {
     "name": "#%%\n"
    }
   },
   "outputs": [
    {
     "name": "stdout",
     "output_type": "stream",
     "text": [
      "-1\n",
      "-1\n",
      "120\n"
     ]
    }
   ],
   "source": [
    "def factorial(n):\n",
    "    if not isinstance(n, int):\n",
    "        return -1\n",
    "    elif not isPositive(n):\n",
    "        return -1\n",
    "    if n == 0:\n",
    "        return 1\n",
    "    else:\n",
    "        return n * factorial(n-1)\n",
    "\n",
    "print(factorial(1.4))\n",
    "print(factorial(-5))\n",
    "print(factorial(5))"
   ]
  },
  {
   "cell_type": "markdown",
   "metadata": {},
   "source": [
    "## Encapsulation and Generalization\n",
    "\n",
    "Encapsulation is the process of wrapping a piece of code in a function while generalization is the process of converting specific tasks into generalized tasks. In order to avoid abundant codes in a program and increase re-usability of a code, a data scientist would need to develop a habit to generalize and encapsulate a certain task into a function.\n",
    "\n",
    "## Pure Function\n",
    "\n",
    "A function is called a pure function when it does not modify any of the objects passed to it but return a value. Let's create a simple class called Time and add object to the class object. Then, develop a program to operate time addition.\n"
   ]
  },
  {
   "cell_type": "code",
   "execution_count": 33,
   "metadata": {
    "pycharm": {
     "is_executing": false,
     "name": "#%%\n"
    }
   },
   "outputs": [
    {
     "name": "stdout",
     "output_type": "stream",
     "text": [
      "{'hours': 17, 'mins': 30, 'secs': 34}\n"
     ]
    }
   ],
   "source": [
    "class Time:\n",
    "    pass\n",
    "\n",
    "def addTime(t1, t2):\n",
    "    sum = Time()\n",
    "    sum.hours = t1.hours + t2.hours\n",
    "    sum.mins = t1.mins + t2.mins\n",
    "    sum.secs = t1.secs + t2.secs\n",
    "    \n",
    "    if sum.secs >= 60:\n",
    "        sum.secs -= 60\n",
    "        sum.mins += 1\n",
    "    if sum.mins >= 60:\n",
    "        sum.mins -= 60\n",
    "        sum.hours += 1\n",
    "\n",
    "    return sum\n",
    "\n",
    "time1 = Time()\n",
    "time1.hours = 11\n",
    "time1.mins = 34\n",
    "time1.secs = 23\n",
    "\n",
    "time2 = Time()\n",
    "time2.hours = 5\n",
    "time2.mins = 56\n",
    "time2.secs = 11\n",
    "\n",
    "sum = addTime(time1, time2)\n",
    "print(sum.__dict__)\n",
    "\n",
    "\n"
   ]
  },
  {
   "cell_type": "markdown",
   "metadata": {
    "pycharm": {
     "name": "#%% md\n"
    }
   },
   "source": [
    "## Modifier Function\n",
    "\n",
    "Sometimes, an object will be tossed to a function and the function would modify the object's attribute. Below function is to increment time object's attributes by seconds put into the function.\n"
   ]
  },
  {
   "cell_type": "code",
   "execution_count": 34,
   "metadata": {
    "pycharm": {
     "is_executing": false,
     "name": "#%%\n"
    }
   },
   "outputs": [
    {
     "name": "stdout",
     "output_type": "stream",
     "text": [
      "{'hours': 17, 'mins': 47, 'secs': 14}\n"
     ]
    }
   ],
   "source": [
    "def increment(time, seconds):\n",
    "    time.secs += seconds\n",
    "    \n",
    "    while time.secs >= 60:\n",
    "        time.secs -= 60\n",
    "        time.mins += 1\n",
    "    \n",
    "    while time.mins >= 60:\n",
    "        time.mins -= 60\n",
    "        time.hours += 1\n",
    "        \n",
    "increment(sum, 1000)\n",
    "print(sum.__dict__)"
   ]
  },
  {
   "cell_type": "markdown",
   "metadata": {},
   "source": [
    "## Pure vs Modifier\n",
    "\n",
    "Anything can be done in modifiers can be done with pure functions. There is evidence that a program using pure functions is faster than using modifiers. Whenever it's possible, one might want to use only pure functions, which is called functional programming style.\n",
    "\n",
    "**References**  \n",
    "Beazley, D. & Jones, B. K. (2013). Python Cookbook. Sebastopol, CA: O’Reilly Media, Inc.  \n",
    "Mitchell, Ryan (2015). Web Scraping with Python. Sebastopol, CA: O’Reilly Media, Inc.  \n",
    "Severance. C. R. (2009). Python for Everybody. http://do1.dr-chuck.com/pythonlearn/EN_us/pythonlearn.pdf  \n",
    "https://www.w3schools.com/python/default.asp "
   ]
  }
 ],
 "metadata": {
  "kernelspec": {
   "display_name": "Python 3",
   "language": "python",
   "name": "python3"
  },
  "language_info": {
   "codemirror_mode": {
    "name": "ipython",
    "version": 3
   },
   "file_extension": ".py",
   "mimetype": "text/x-python",
   "name": "python",
   "nbconvert_exporter": "python",
   "pygments_lexer": "ipython3",
   "version": "3.7.5"
  },
  "pycharm": {
   "stem_cell": {
    "cell_type": "raw",
    "metadata": {
     "collapsed": false
    },
    "source": []
   }
  }
 },
 "nbformat": 4,
 "nbformat_minor": 1
}
