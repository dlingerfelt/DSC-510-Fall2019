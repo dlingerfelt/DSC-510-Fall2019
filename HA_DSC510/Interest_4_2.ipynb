{
 "cells": [
  {
   "cell_type": "markdown",
   "metadata": {
    "collapsed": true,
    "pycharm": {
     "name": "#%% md\n"
    }
   },
   "source": [
    "# Functions\n",
    "\n",
    "##  Boolean Functions\n",
    "\n",
    "A Boolean function returns boolean values which are *True* or *False*. It is very useful when you want to encapsulate a complicated test logic inside a function. For example, when a program receive an input from a user, the program needs to test if the user enter only valid values. The below code will test if a number is positive.\n"
   ]
  },
  {
   "cell_type": "code",
   "execution_count": 2,
   "outputs": [
    {
     "name": "stdout",
     "text": [
      "False\nTrue\n"
     ],
     "output_type": "stream"
    }
   ],
   "source": [
    "def isPositive(x):\n",
    "    if x < 0:\n",
    "        return False\n",
    "    else:\n",
    "        return True\n",
    "    \n",
    "num1 = -1\n",
    "num2 = 1\n",
    "print(isPositive(num1))\n",
    "print(isPositive(num2))"
   ],
   "metadata": {
    "collapsed": false,
    "pycharm": {
     "name": "#%%\n",
     "is_executing": false
    }
   }
  },
  {
   "cell_type": "markdown",
   "source": [
    "Then, below code can be re-written."
   ],
   "metadata": {
    "collapsed": false
   }
  },
  {
   "cell_type": "code",
   "execution_count": 5,
   "outputs": [
    {
     "name": "stdout",
     "text": [
      "4\n"
     ],
     "output_type": "stream"
    }
   ],
   "source": [
    "feet = 0\n",
    "\n",
    "while True:\n",
    "    feet = int(input(\"Enter the number of feet: \"))\n",
    "    if feet >= 0:\n",
    "        break\n",
    "        \n",
    "print(feet)"
   ],
   "metadata": {
    "collapsed": false,
    "pycharm": {
     "name": "#%%\n",
     "is_executing": false
    }
   }
  },
  {
   "cell_type": "code",
   "execution_count": 10,
   "outputs": [
    {
     "name": "stdout",
     "text": [
      "8\n"
     ],
     "output_type": "stream"
    }
   ],
   "source": [
    "feet = 0\n",
    "positive = True\n",
    "\n",
    "while True:\n",
    "    feet = int(input(\"Enter the number of feet: \"))\n",
    "    if isPositive(feet):\n",
    "        break\n",
    "\n",
    "print(feet)\n"
   ],
   "metadata": {
    "collapsed": false,
    "pycharm": {
     "name": "#%%\n",
     "is_executing": false
    }
   }
  }
 ],
 "metadata": {
  "kernelspec": {
   "display_name": "Python 3",
   "language": "python",
   "name": "python3"
  },
  "language_info": {
   "codemirror_mode": {
    "name": "ipython",
    "version": 2
   },
   "file_extension": ".py",
   "mimetype": "text/x-python",
   "name": "python",
   "nbconvert_exporter": "python",
   "pygments_lexer": "ipython2",
   "version": "2.7.6"
  },
  "pycharm": {
   "stem_cell": {
    "cell_type": "raw",
    "source": [],
    "metadata": {
     "collapsed": false
    }
   }
  }
 },
 "nbformat": 4,
 "nbformat_minor": 0
}