{
 "cells": [
  {
   "cell_type": "markdown",
   "metadata": {
    "collapsed": true,
    "pycharm": {
     "name": "#%% md\n"
    }
   },
   "source": [
    "# 3.2 Interest\n",
    "\n",
    "## Chained Conditionals\n",
    "\n",
    "When there are more than two possibilities of a test, we would need more than two branches. Let's take an example from the assignment 3.1.\n",
    "\n",
    "**Evaluate a bulk discount:**  \n",
    "- Using the default value of $0.87 calculate the total expense.\n",
    "- If the user purchases more than 100 feet they are charged $0.80 per foot.\n",
    "- If the user purchases more than 250 feet they will be charged $0.70 per foot.\n",
    "- If they purchase more than 500 feet, they will be charged $0.50 per foot.\n"
   ]
  },
  {
   "cell_type": "code",
   "execution_count": 30,
   "metadata": {
    "pycharm": {
     "is_executing": false,
     "name": "#%%\n"
    }
   },
   "outputs": [
    {
     "name": "stdout",
     "output_type": "stream",
     "text": [
      "0.87\n"
     ]
    }
   ],
   "source": [
    "feet = 100\n",
    "cost_per_feet = None\n",
    "\n",
    "if feet > 500:\n",
    "    cost_per_feet = 0.50\n",
    "elif feet > 250:\n",
    "    cost_per_feet = 0.70\n",
    "elif feet > 100:\n",
    "    cost_per_feet = 0.80\n",
    "else:\n",
    "    cost_per_feet = 0.87\n",
    "\n",
    "print(cost_per_feet)"
   ]
  },
  {
   "cell_type": "markdown",
   "metadata": {},
   "source": [
    "## Wrap Conditionals & Return Statement\n",
    "\n",
    "Sometimes, it might be beneficial for a programmers to wrap if statement using a function in case there are multiple usages of the statement. After all, we want to avoid repeating a block of codes. \n",
    "\n",
    "The return statement terminates the execution of a function before reaching the end of the function. If a condition is met, then the return statement will return a value and would not execute the rest of the code."
   ]
  },
  {
   "cell_type": "code",
   "execution_count": 25,
   "metadata": {
    "pycharm": {
     "is_executing": false,
     "name": "#%%\n"
    }
   },
   "outputs": [
    {
     "name": "stdout",
     "output_type": "stream",
     "text": [
      "0.87\n",
      "0.8\n",
      "0.7\n",
      "0.5\n"
     ]
    }
   ],
   "source": [
    "def get_discounted_cost(feet):\n",
    "    if feet > 500:\n",
    "        return 0.50\n",
    "    elif feet > 250:\n",
    "        return 0.70\n",
    "    elif feet > 100:\n",
    "        return 0.80\n",
    "    else:\n",
    "        return 0.87\n",
    "\n",
    "print(get_discounted_cost(100))\n",
    "print(get_discounted_cost(250))\n",
    "print(get_discounted_cost(500))\n",
    "print(get_discounted_cost(1000))\n",
    "\n"
   ]
  },
  {
   "cell_type": "markdown",
   "metadata": {},
   "source": [
    "## Nested Conditionals\n",
    "\n",
    "One conditional can be nested in another conditional. The above function can be re-written using nested conditional statements."
   ]
  },
  {
   "cell_type": "code",
   "execution_count": 26,
   "metadata": {
    "pycharm": {
     "is_executing": false,
     "name": "#%%\n"
    }
   },
   "outputs": [
    {
     "name": "stdout",
     "output_type": "stream",
     "text": [
      "Test function version 1:\n",
      "0.87\n",
      "0.8\n",
      "0.7\n",
      "0.5\n"
     ]
    }
   ],
   "source": [
    "def get_discounted_cost_v1(feet):\n",
    "    if feet > 0:\n",
    "        if feet > 100:\n",
    "            if feet > 250:\n",
    "                if feet > 500:\n",
    "                    return 0.50\n",
    "                return 0.70\n",
    "            return 0.80\n",
    "        return 0.87\n",
    "    else:\n",
    "        print(\"The value must be greater than 0.\")\n",
    "        \n",
    "print(\"Test function version 1:\")        \n",
    "print(get_discounted_cost_v1(100))\n",
    "print(get_discounted_cost_v1(250))\n",
    "print(get_discounted_cost_v1(500))\n",
    "print(get_discounted_cost_v1(1000))"
   ]
  },
  {
   "cell_type": "markdown",
   "metadata": {
    "pycharm": {
     "name": "#%% md\n"
    }
   },
   "source": [
    "There can be more than two conditions for each if statement. In this case, we can use **and** or **or** logical operator as shown below:"
   ]
  },
  {
   "cell_type": "code",
   "execution_count": 27,
   "metadata": {
    "pycharm": {
     "is_executing": false,
     "name": "#%%        \n"
    }
   },
   "outputs": [
    {
     "name": "stdout",
     "output_type": "stream",
     "text": [
      "Test function version 2:\n",
      "0.87\n",
      "0.8\n",
      "0.7\n",
      "0.5\n"
     ]
    }
   ],
   "source": [
    "def get_discounted_cost_v2(feet):\n",
    "    if feet > 0 and feet <=100:\n",
    "        return 0.87\n",
    "    elif feet > 100 and feet <= 250:\n",
    "        return 0.80\n",
    "    elif feet > 250 and feet <= 500:\n",
    "        return 0.70\n",
    "    elif feet > 500:\n",
    "        return 0.50\n",
    "    else:\n",
    "        print(\"The value must be greater than 0.\")\n",
    "\n",
    "print(\"Test function version 2:\")        \n",
    "print(get_discounted_cost_v2(100))\n",
    "print(get_discounted_cost_v2(250))\n",
    "print(get_discounted_cost_v2(500))\n",
    "print(get_discounted_cost_v2(1000))\n"
   ]
  },
  {
   "cell_type": "markdown",
   "metadata": {},
   "source": [
    "**Interesting note:** Python provides an alternative syntax similar to mathematical notation."
   ]
  },
  {
   "cell_type": "code",
   "execution_count": 28,
   "metadata": {
    "pycharm": {
     "is_executing": false,
     "name": "#%% \n"
    }
   },
   "outputs": [
    {
     "name": "stdout",
     "output_type": "stream",
     "text": [
      "Test function version 3:\n",
      "0.87\n",
      "0.8\n",
      "0.7\n",
      "0.5\n"
     ]
    }
   ],
   "source": [
    "def get_discounted_cost_v3(feet):\n",
    "    if 0 < feet <= 100:\n",
    "        return 0.87\n",
    "    elif 100 < feet <= 250:\n",
    "        return 0.80\n",
    "    elif 250 < feet <= 500:\n",
    "        return 0.70\n",
    "    elif feet > 500:\n",
    "        return 0.50\n",
    "    else:\n",
    "        print(\"The value must be greater than 0.\")\n",
    "        \n",
    "print(\"Test function version 3:\")        \n",
    "print(get_discounted_cost_v3(100))\n",
    "print(get_discounted_cost_v3(250))\n",
    "print(get_discounted_cost_v3(500))\n",
    "print(get_discounted_cost_v3(1000))\n"
   ]
  },
  {
   "cell_type": "markdown",
   "metadata": {},
   "source": [
    "## Try and Except Statement\n",
    "\n",
    "For above functions, we want to make sure that the user would enter number as opposed to a string to perform mathematical operation. In that case, before throwing an argument into the if statement for test, we want to add try and except statement to asset the input value can be converted into float as shown below."
   ]
  },
  {
   "cell_type": "code",
   "execution_count": 29,
   "metadata": {
    "pycharm": {
     "is_executing": false,
     "name": "#%%\n"
    }
   },
   "outputs": [
    {
     "name": "stdout",
     "output_type": "stream",
     "text": [
      "Please enter a number greater than 0\n",
      "None\n"
     ]
    }
   ],
   "source": [
    "def get_discounted_cost(feet):\n",
    "    try:\n",
    "        feet = float(feet)\n",
    "        if feet > 500:\n",
    "            return 0.50\n",
    "        elif feet > 250:\n",
    "            return 0.70\n",
    "        elif feet > 100:\n",
    "            return 0.80\n",
    "        else:\n",
    "            return 0.87\n",
    "    except ValueError:\n",
    "        print(\"Please enter a number greater than 0\")\n",
    "  \n",
    "print(get_discounted_cost(\"number\"))"
   ]
  }
 ],
 "metadata": {
  "kernelspec": {
   "display_name": "Python 3",
   "language": "python",
   "name": "python3"
  },
  "language_info": {
   "codemirror_mode": {
    "name": "ipython",
    "version": 3
   },
   "file_extension": ".py",
   "mimetype": "text/x-python",
   "name": "python",
   "nbconvert_exporter": "python",
   "pygments_lexer": "ipython3",
   "version": "3.7.5"
  },
  "pycharm": {
   "stem_cell": {
    "cell_type": "raw",
    "metadata": {
     "collapsed": false
    },
    "source": []
   }
  }
 },
 "nbformat": 4,
 "nbformat_minor": 1
}
