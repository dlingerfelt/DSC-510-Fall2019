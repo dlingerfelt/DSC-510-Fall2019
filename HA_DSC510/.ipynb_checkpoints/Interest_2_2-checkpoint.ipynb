{
 "cells": [
  {
   "cell_type": "markdown",
   "metadata": {},
   "source": [
    "# 2.2 Interest\n",
    "\n",
    "Python provides various data types and structures. Among them, I found list, set and dictionary is very useful. We would need some techniques around those data types because it will increase efficiency on coding because we can pack multiple variables using those sequence data types. Then, it might be beneficial for a data scientist to know how to unpack such a sequence data type into a collection of variables. These sequence (or iterable) can be unpacked into variables using an assignment operation."
   ]
  },
  {
   "cell_type": "code",
   "execution_count": 8,
   "metadata": {
    "pycharm": {
     "is_executing": false,
     "name": "#%%\n"
    }
   },
   "outputs": [
    {
     "name": "stdout",
     "output_type": "stream",
     "text": [
      "x:  4\n",
      "y:  5\n"
     ]
    }
   ],
   "source": [
    "#Unpack tuple\n",
    "p = (4, 5) #tuple\n",
    "x, y = p\n",
    "print(\"x: \", x)\n",
    "print(\"y: \", y)"
   ]
  },
  {
   "cell_type": "code",
   "execution_count": 9,
   "metadata": {
    "pycharm": {
     "is_executing": false,
     "name": "#%% \n"
    }
   },
   "outputs": [
    {
     "name": "stdout",
     "output_type": "stream",
     "text": [
      "Jane 45.6 166 1.2 1.0\n"
     ]
    }
   ],
   "source": [
    "#Unpack list\n",
    "bio = [\"Jane\", 45.6, 166, (1.2, 1.0)]\n",
    "name, weight, height, eye_sight = bio\n",
    "print(name, weight, height, eye_sight[0], eye_sight[1])"
   ]
  },
  {
   "cell_type": "markdown",
   "metadata": {},
   "source": [
    "When there is an unknown number of elements in the sequence data type, then star expression can be useful. For example, a user might enter his personal information with multiple email addresses."
   ]
  },
  {
   "cell_type": "code",
   "execution_count": 10,
   "metadata": {
    "pycharm": {
     "is_executing": false,
     "name": "#%%\n"
    }
   },
   "outputs": [
    {
     "name": "stdout",
     "output_type": "stream",
     "text": [
      "Mike 34 ['mike@gmail.com', 'mike@yahoo.com']\n"
     ]
    }
   ],
   "source": [
    "user_record = [\"Mike\", 34, \"mike@gmail.com\", \"mike@yahoo.com\"]\n",
    "name, age, *email = user_record\n",
    "print(name, age, email)   "
   ]
  },
  {
   "cell_type": "markdown",
   "metadata": {},
   "source": [
    "\n"
   ]
  }
 ],
 "metadata": {
  "kernelspec": {
   "display_name": "Python 3",
   "language": "python",
   "name": "python3"
  },
  "language_info": {
   "codemirror_mode": {
    "name": "ipython",
    "version": 3
   },
   "file_extension": ".py",
   "mimetype": "text/x-python",
   "name": "python",
   "nbconvert_exporter": "python",
   "pygments_lexer": "ipython3",
   "version": "3.7.5"
  },
  "pycharm": {
   "stem_cell": {
    "cell_type": "raw",
    "metadata": {
     "collapsed": false
    },
    "source": []
   }
  }
 },
 "nbformat": 4,
 "nbformat_minor": 1
}
