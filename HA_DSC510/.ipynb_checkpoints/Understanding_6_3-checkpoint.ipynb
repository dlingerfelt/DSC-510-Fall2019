{
 "cells": [
  {
   "cell_type": "markdown",
   "metadata": {
    "collapsed": true,
    "pycharm": {
     "name": "#%% md\n"
    }
   },
   "source": [
    "# Linked List\n",
    "\n",
    "A linked list is a linear collection of data elements which are sometimes called nodes. Each node contains a field that points to the next element in the list and data that users want to store in the node. \n",
    "\n",
    "The first node in the linked list is a head, the next node has a field to point to the next node, and the last node in the list has a field that points to nothing (NULL), which indicates that it is the end of the list. \n",
    "\n",
    "Let's create a node class as shown below.\n",
    "The Node class will create a node object. In the object, it contains val for data storage and next for reference to the next node. Also, it has 4 methods to set / get val and next variables. "
   ]
  },
  {
   "cell_type": "code",
   "execution_count": 1,
   "metadata": {
    "pycharm": {
     "is_executing": false,
     "name": "#%%\n"
    }
   },
   "outputs": [],
   "source": [
    "class Node(object):\n",
    "    def __init__(self, val):\n",
    "        self.val = val\n",
    "        self.next = None\n",
    "\n",
    "    def get_data(self):\n",
    "        \"\"\"Return data to users.\"\"\"\n",
    "        return self.val\n",
    "\n",
    "    def set_data(self, val):\n",
    "        \"\"\"Set data by users.\"\"\"\n",
    "        self.val = val\n",
    "\n",
    "    def get_next(self):\n",
    "        \"\"\"Return pointer to the next node.\"\"\"\n",
    "        return self.next\n",
    "\n",
    "    def set_next(self, new_next):\n",
    "        \"\"\"Set pointer to the next node.\"\"\"\n",
    "        self.next = new_next\n"
   ]
  },
  {
   "cell_type": "markdown",
   "metadata": {},
   "source": [
    "The next class to implement is LinkedList class where it contains two field head to point to the head node of a list and count to indicate a number of nodes in the list. \n",
    "\n",
    "get_count method will simply return the number of nodes in the list.\n",
    "\n",
    "The insert method will add a new node. For the first node creation, the next variable in the node and the head variable in the list are set to None, indicating there is no other node in the list.\n",
    "\n",
    "When insert a second node, the second node will push down the existing node, becomes the head, and point to the first node using next variable. \n",
    "\n",
    "The find method will find a value and return the node reference id. The item variable is set to the head, while loop is searching for the value, if not found, then item is set to be the next node, and so on. If no value is found, then the method will return None.\n",
    "\n",
    "The next method is DeleteAt (index). If index is beyond the length of the list, it simply returns nothing. If index is 0 which is a head, then it will set the next node as a head. If index is within a range of size of the list, then it will find the node right before the node to be deleted and just set next pointer to the node next to the node to be deleted.\n",
    "\n",
    "The last method simply dumps values in the list from head to tail."
   ]
  },
  {
   "cell_type": "code",
   "execution_count": 3,
   "metadata": {
    "pycharm": {
     "is_executing": false,
     "name": "#%%\n"
    }
   },
   "outputs": [],
   "source": [
    "class LinkedList(object):\n",
    "    def __init__(self, head=None):\n",
    "        self.head = head\n",
    "        self.count = 0\n",
    "\n",
    "    def get_count(self):\n",
    "        return self.count\n",
    "\n",
    "    def insert(self, data):\n",
    "        new_node = Node(data)\n",
    "        new_node.set_next(self.head)\n",
    "        self.head = new_node\n",
    "        self.count += 1\n",
    "\n",
    "    def find(self, val):\n",
    "        item = self.head\n",
    "        while (item != None):\n",
    "            if item.get_data() == val:\n",
    "                return item\n",
    "            else:\n",
    "                item = item.get_next()\n",
    "        return None\n",
    "\n",
    "    def deleteAt(self, idx):\n",
    "        if idx > self.count:\n",
    "            return\n",
    "        if self.head == None:\n",
    "            return\n",
    "        else:\n",
    "            tempIdx = 0\n",
    "            node = self.head\n",
    "            while tempIdx < idx-1:\n",
    "                node = node.get_next()\n",
    "                tempIdx += 1\n",
    "            node.set_next(node.get_next().get_next())\n",
    "            self.count -= 1\n",
    "\n",
    "    def dump_list(self):\n",
    "        tempnode = self.head\n",
    "        while (tempnode != None):\n",
    "            print(\"Node: \", tempnode.get_data())\n",
    "            tempnode = tempnode.get_next()"
   ]
  },
  {
   "cell_type": "markdown",
   "metadata": {
    "pycharm": {
     "name": "#%% md\n"
    }
   },
   "source": [
    "Let's test linked list class."
   ]
  },
  {
   "cell_type": "code",
   "execution_count": 4,
   "metadata": {
    "pycharm": {
     "is_executing": false,
     "name": "#%%\n"
    }
   },
   "outputs": [
    {
     "name": "stdout",
     "output_type": "stream",
     "text": [
      "Node:  head\n",
      "Node:  1\n",
      "Node:  2\n",
      "Node:  3\n",
      "Node:  Bottom\n"
     ]
    }
   ],
   "source": [
    "# Create an object\n",
    "linked_list = LinkedList()\n",
    "\n",
    "# Insert nodes\n",
    "linked_list.insert('Bottom')\n",
    "linked_list.insert(3)\n",
    "linked_list.insert(2)\n",
    "linked_list.insert(1)\n",
    "linked_list.insert('head')\n",
    "\n",
    "linked_list.dump_list()"
   ]
  },
  {
   "cell_type": "code",
   "execution_count": 7,
   "metadata": {
    "pycharm": {
     "is_executing": false,
     "name": "#%%\n"
    }
   },
   "outputs": [
    {
     "name": "stdout",
     "output_type": "stream",
     "text": [
      "Item count:  5\n",
      "Finding item:  <__main__.Node object at 0x0580ED10>\n",
      "Finding item:  None\n",
      "Item count:  4\n",
      "Finding item:  None\n",
      "Node:  head\n",
      "Node:  1\n",
      "Node:  2\n",
      "Node:  Bottom\n"
     ]
    }
   ],
   "source": [
    "# exercise the list\n",
    "print(\"Item count: \", linked_list.get_count())\n",
    "print(\"Finding item: \", linked_list.find(1))\n",
    "print(\"Finding item: \", linked_list.find(5))\n",
    "\n",
    "# delete an item\n",
    "linked_list.deleteAt(3)\n",
    "print(\"Item count: \", linked_list.get_count())\n",
    "print(\"Finding item: \", linked_list.find(3))\n",
    "linked_list.dump_list()\n"
   ]
  },
  {
   "cell_type": "markdown",
   "metadata": {},
   "source": [
    "References  \n",
    "Beazley, D. & Jones, B. K. (2013). Python Cookbook. Sebastopol, CA: O’Reilly Media, Inc.  \n",
    "Mitchell, Ryan (2015). Web Scraping with Python. Sebastopol, CA: O’Reilly Media, Inc.  \n",
    "Severance. C. R. (2009). Python for Everybody. http://do1.dr-chuck.com/pythonlearn/EN_us/pythonlearn.pdf  \n",
    "https://www.w3schools.com/python/default.asp  \n",
    "https://www.codefellows.org/blog/implementing-a-singly-linked-list-in-python/  \n",
    "https://medium.com/@kojinoshiba/data-structures-in-python-series-1-linked-lists-d9f848537b4d  \n"
   ]
  }
 ],
 "metadata": {
  "kernelspec": {
   "display_name": "Python 3",
   "language": "python",
   "name": "python3"
  },
  "language_info": {
   "codemirror_mode": {
    "name": "ipython",
    "version": 3
   },
   "file_extension": ".py",
   "mimetype": "text/x-python",
   "name": "python",
   "nbconvert_exporter": "python",
   "pygments_lexer": "ipython3",
   "version": "3.7.5"
  },
  "pycharm": {
   "stem_cell": {
    "cell_type": "raw",
    "metadata": {
     "collapsed": false
    },
    "source": []
   }
  }
 },
 "nbformat": 4,
 "nbformat_minor": 1
}
