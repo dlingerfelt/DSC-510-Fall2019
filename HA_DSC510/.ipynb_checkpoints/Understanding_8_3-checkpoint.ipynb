{
 "cells": [
  {
   "cell_type": "markdown",
   "metadata": {
    "collapsed": true,
    "pycharm": {
     "name": "#%% md\n"
    }
   },
   "source": [
    "# Dictionary\n",
    "\n",
    "A dictionary is a data structure using key/value pairs in Python. A dictionary is similar to a list or a tuple in a way it contains multiple values in a single variable, but they are also fundamentally different because a dictionary is using a key for a value. In a list, a value is indexed by position so that the order of the elements is very important but since a value in a dictionary is indexed using a key, the order of the elements will not matter. A key in a dictionary must be unique. \n",
    "\n",
    "## Creation of A Dictionary\n",
    "\n",
    "We can create a dictionary as follows:"
   ]
  },
  {
   "cell_type": "code",
   "execution_count": 1,
   "metadata": {
    "pycharm": {
     "is_executing": false,
     "name": "#%%\n"
    }
   },
   "outputs": [
    {
     "name": "stdout",
     "output_type": "stream",
     "text": [
      "{'height': 175, 'weight': 70, 'ssn': '999-999-9999', 'inventory': ['apple', 'banana']}\n"
     ]
    }
   ],
   "source": [
    "james = {\n",
    "    'height':175,\n",
    "    'weight':70,\n",
    "    'ssn':'999-999-9999',\n",
    "    'inventory':['apple', 'banana']\n",
    "}\n",
    "\n",
    "print(james)\n"
   ]
  },
  {
   "cell_type": "markdown",
   "metadata": {
    "pycharm": {
     "name": "#%% md\n"
    }
   },
   "source": [
    "We can get access to item using key with either square brackets or `get` method."
   ]
  },
  {
   "cell_type": "code",
   "execution_count": 5,
   "metadata": {
    "pycharm": {
     "is_executing": false,
     "name": "#%%\n"
    }
   },
   "outputs": [
    {
     "name": "stdout",
     "output_type": "stream",
     "text": [
      "175\n",
      "70\n"
     ]
    }
   ],
   "source": [
    "print(james['height'])\n",
    "print(james.get('weight'))"
   ]
  },
  {
   "cell_type": "markdown",
   "metadata": {
    "pycharm": {
     "name": "#%% md\n"
    }
   },
   "source": [
    "Also, like a list, we can change a value for a key as follows:"
   ]
  },
  {
   "cell_type": "code",
   "execution_count": 6,
   "metadata": {
    "pycharm": {
     "is_executing": false,
     "name": "#%%\n"
    }
   },
   "outputs": [
    {
     "name": "stdout",
     "output_type": "stream",
     "text": [
      "180\n"
     ]
    }
   ],
   "source": [
    "james['height'] = '180'\n",
    "print(james['height'])"
   ]
  },
  {
   "cell_type": "markdown",
   "metadata": {
    "pycharm": {
     "name": "#%% md\n"
    }
   },
   "source": [
    "Likewise, we can change values in the list inside the dictionary."
   ]
  },
  {
   "cell_type": "code",
   "execution_count": 8,
   "metadata": {
    "pycharm": {
     "is_executing": false,
     "name": "#%%\n"
    }
   },
   "outputs": [
    {
     "name": "stdout",
     "output_type": "stream",
     "text": [
      "['apple', 'banana', 'pineapple']\n"
     ]
    }
   ],
   "source": [
    "james['inventory'].append('pineapple')\n",
    "print(james['inventory'])"
   ]
  },
  {
   "cell_type": "markdown",
   "metadata": {},
   "source": [
    "Similar to a list and a tuple, we can loop through a dictionary. However, since a dictionary is made of key/value, it will only loop through keys. In order to get values, we will need to use either square brackets or method.\n"
   ]
  },
  {
   "cell_type": "code",
   "execution_count": 9,
   "metadata": {
    "pycharm": {
     "is_executing": false,
     "name": "#%%\n"
    }
   },
   "outputs": [
    {
     "name": "stdout",
     "output_type": "stream",
     "text": [
      "height\n",
      "weight\n",
      "ssn\n",
      "inventory\n"
     ]
    }
   ],
   "source": [
    "# Loop through keys\n",
    "for key in james:\n",
    "    print(key)\n"
   ]
  },
  {
   "cell_type": "code",
   "execution_count": 14,
   "metadata": {
    "pycharm": {
     "is_executing": false,
     "name": "#%%\n"
    }
   },
   "outputs": [
    {
     "name": "stdout",
     "output_type": "stream",
     "text": [
      "180\n",
      "70\n",
      "999-999-9999\n",
      "['apple', 'banana', 'pineapple']\n"
     ]
    }
   ],
   "source": [
    "# Get values\n",
    "for key in james:\n",
    "    print(james[key])"
   ]
  },
  {
   "cell_type": "code",
   "execution_count": 15,
   "metadata": {
    "pycharm": {
     "is_executing": false,
     "name": "#%%\n"
    }
   },
   "outputs": [
    {
     "name": "stdout",
     "output_type": "stream",
     "text": [
      "180\n",
      "70\n",
      "999-999-9999\n",
      "['apple', 'banana', 'pineapple']\n"
     ]
    }
   ],
   "source": [
    "# or \n",
    "for key in james:\n",
    "    print(james.get(key))"
   ]
  },
  {
   "cell_type": "code",
   "execution_count": 16,
   "metadata": {
    "pycharm": {
     "is_executing": false,
     "name": "#%%\n"
    }
   },
   "outputs": [
    {
     "name": "stdout",
     "output_type": "stream",
     "text": [
      "180\n",
      "70\n",
      "999-999-9999\n",
      "['apple', 'banana', 'pineapple']\n"
     ]
    }
   ],
   "source": [
    "# or\n",
    "for value in james.values():\n",
    "    print(value)"
   ]
  },
  {
   "cell_type": "markdown",
   "metadata": {},
   "source": [
    "If we want to loop through key and value, then we can use item() method."
   ]
  },
  {
   "cell_type": "code",
   "execution_count": 17,
   "metadata": {
    "pycharm": {
     "is_executing": false,
     "name": "#%%\n"
    }
   },
   "outputs": [
    {
     "name": "stdout",
     "output_type": "stream",
     "text": [
      "height : 180\n",
      "weight : 70\n",
      "ssn : 999-999-9999\n",
      "inventory : ['apple', 'banana', 'pineapple']\n"
     ]
    }
   ],
   "source": [
    "for key, value in james.items():\n",
    "    print(key, \":\", value)"
   ]
  },
  {
   "cell_type": "markdown",
   "metadata": {},
   "source": [
    "We can check if a key exist in a dictionary using `in`. Similar to a list, we can use len() to check the length of a dictionary."
   ]
  },
  {
   "cell_type": "code",
   "execution_count": 18,
   "metadata": {
    "pycharm": {
     "is_executing": false,
     "name": "#%%\n"
    }
   },
   "outputs": [
    {
     "name": "stdout",
     "output_type": "stream",
     "text": [
      "Found it\n",
      "The length is: 4\n"
     ]
    }
   ],
   "source": [
    "if 'weight' in james:\n",
    "    print(\"Found it\")\n",
    "    print(\"The length is:\", len(james))\n"
   ]
  },
  {
   "cell_type": "markdown",
   "metadata": {},
   "source": [
    "We can simply add a new item to a dictionary using square brackets and assignment."
   ]
  },
  {
   "cell_type": "code",
   "execution_count": 20,
   "metadata": {
    "pycharm": {
     "is_executing": false,
     "name": "#%%\n"
    }
   },
   "outputs": [
    {
     "name": "stdout",
     "output_type": "stream",
     "text": [
      "height : 180\n",
      "weight : 70\n",
      "ssn : 999-999-9999\n",
      "inventory : ['apple', 'banana', 'pineapple']\n",
      "balance : 456000\n"
     ]
    }
   ],
   "source": [
    "james['balance'] = 456000\n",
    "for key, value in james.items():\n",
    "    print(key, \":\", value)"
   ]
  },
  {
   "cell_type": "markdown",
   "metadata": {},
   "source": [
    "There are two ways to remove an item from a dictionary: pop and del. Pop will remove an item with a key provided, then it will return the value. Del will just remove the item with the value. Del also can delete the dictionary while clear() will only clear items in the dictionary.\n"
   ]
  },
  {
   "cell_type": "code",
   "execution_count": 21,
   "metadata": {
    "pycharm": {
     "is_executing": false,
     "name": "#%%\n"
    }
   },
   "outputs": [
    {
     "name": "stdout",
     "output_type": "stream",
     "text": [
      "height : 180\n",
      "weight : 70\n",
      "ssn : 999-999-9999\n",
      "inventory : ['apple', 'banana', 'pineapple']\n",
      "456000\n"
     ]
    }
   ],
   "source": [
    "balance = james.pop('balance')\n",
    "for key, value in james.items():\n",
    "    print(key, \":\", value)\n",
    "print(balance)"
   ]
  },
  {
   "cell_type": "code",
   "execution_count": 22,
   "metadata": {
    "pycharm": {
     "is_executing": false,
     "name": "#%%\n"
    }
   },
   "outputs": [
    {
     "name": "stdout",
     "output_type": "stream",
     "text": [
      "height : 180\n",
      "weight : 70\n",
      "inventory : ['apple', 'banana', 'pineapple']\n"
     ]
    }
   ],
   "source": [
    "del james['ssn']\n",
    "for key, value in james.items():\n",
    "    print(key, \":\", value)"
   ]
  },
  {
   "cell_type": "markdown",
   "metadata": {},
   "source": [
    "The usefulness of dictionary is that it can be used in lots of mapping tables where key and value exists. Since values can be looked up using keys, we can create a relationship between data using keys easily.\n",
    "\n",
    "References  \n",
    "Beazley, D. & Jones, B. K. (2013). Python Cookbook. Sebastopol, CA: O’Reilly Media, Inc.  \n",
    "Mitchell, Ryan (2015). Web Scraping with Python. Sebastopol, CA: O’Reilly Media, Inc.  \n",
    "Severance. C. R. (2009). Python for Everybody. http://do1.dr-chuck.com/pythonlearn/EN_us/pythonlearn.pdf  \n",
    "https://www.w3schools.com/python/default.asp  \n",
    "\n"
   ]
  }
 ],
 "metadata": {
  "kernelspec": {
   "display_name": "Python 3",
   "language": "python",
   "name": "python3"
  },
  "language_info": {
   "codemirror_mode": {
    "name": "ipython",
    "version": 3
   },
   "file_extension": ".py",
   "mimetype": "text/x-python",
   "name": "python",
   "nbconvert_exporter": "python",
   "pygments_lexer": "ipython3",
   "version": "3.7.5"
  },
  "pycharm": {
   "stem_cell": {
    "cell_type": "raw",
    "metadata": {
     "collapsed": false
    },
    "source": []
   }
  }
 },
 "nbformat": 4,
 "nbformat_minor": 1
}
