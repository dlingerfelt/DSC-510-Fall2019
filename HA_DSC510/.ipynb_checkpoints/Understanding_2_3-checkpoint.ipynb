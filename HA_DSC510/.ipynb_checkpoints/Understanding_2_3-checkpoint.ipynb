{
 "cells": [
  {
   "cell_type": "markdown",
   "metadata": {},
   "source": [
    "# 2.3 Understanding\n",
    "\n",
    "## Combining and Concatenating Strings\n",
    "\n",
    "As a data scientist needs to handle text data in many data science projects, it is beneficial to learn how to manipulate string data. The easiest way to concatenate string is to use '+' operator.\n"
   ]
  },
  {
   "cell_type": "code",
   "execution_count": 5,
   "metadata": {
    "pycharm": {
     "is_executing": false,
     "name": "#%%\n"
    }
   },
   "outputs": [
    {
     "name": "stdout",
     "output_type": "stream",
     "text": [
      "Introduction to Programming\n"
     ]
    }
   ],
   "source": [
    "a = [\"Introduction\", \"to\", \"Programming\"]\n",
    "\n",
    "d = a[0] + \" \" + a[1] + \" \" + a[2]\n",
    "print(d)"
   ]
  },
  {
   "cell_type": "markdown",
   "metadata": {
    "pycharm": {
     "name": "#%% md\n"
    }
   },
   "source": [
    "Or you might want to combine the string data in the list using a loop as shown below:\n"
   ]
  },
  {
   "cell_type": "code",
   "execution_count": 7,
   "metadata": {
    "pycharm": {
     "is_executing": false,
     "name": "#%%\n"
    }
   },
   "outputs": [
    {
     "name": "stdout",
     "output_type": "stream",
     "text": [
      "Introduction to Programming \n"
     ]
    }
   ],
   "source": [
    "def combine(ls):\n",
    "    st = \"\"\n",
    "    for el in ls:\n",
    "        st += el + \" \"\n",
    "    return st\n",
    "\n",
    "combined = combine(a)\n",
    "print(combined)\n",
    "\n"
   ]
  },
  {
   "cell_type": "markdown",
   "metadata": {
    "pycharm": {
     "name": "#%% md\n"
    }
   },
   "source": [
    "However, using the '+' operator in joining multiple strings is told to be inefficient because the memory copies and garbage collection occurs. In this case, using join() method is more efficient. join() is a method on string class. That's why the user need to add .join() after string object. This seems little strange at glance, but when you think about the fact that join() is a method, then it will start making sense. Separator will need to locate inside the single quotation mark, then followed by .join() method. Inside the parenthesis, throw in an object that contains a list of strings.\n",
    " "
   ]
  },
  {
   "cell_type": "code",
   "execution_count": 9,
   "metadata": {
    "pycharm": {
     "is_executing": false,
     "name": "#%%\n"
    }
   },
   "outputs": [
    {
     "name": "stdout",
     "output_type": "stream",
     "text": [
      "IntroductiontoProgramming\n",
      "Introduction to Programming\n",
      "Introduction-to-Programming\n"
     ]
    }
   ],
   "source": [
    "print(''.join(a))\n",
    "print(' '.join(a))\n",
    "print('-'.join(a))\n"
   ]
  },
  {
   "cell_type": "markdown",
   "metadata": {},
   "source": [
    "## String Format\n",
    "\n",
    "Another useful method is format(). The format() method allows you to format selected parts of a string and control the parts' values. To control such values, add placeholders (curly brackets {}) in the text, and run the values through the format() method.\n"
   ]
  },
  {
   "cell_type": "code",
   "execution_count": 10,
   "metadata": {
    "pycharm": {
     "is_executing": false,
     "name": "#%%\n"
    }
   },
   "outputs": [
    {
     "name": "stdout",
     "output_type": "stream",
     "text": [
      "I am 50 years old\n"
     ]
    }
   ],
   "source": [
    "stringVar = \"I am {} years old\"\n",
    "age = 50\n",
    "print(stringVar.format(50))"
   ]
  },
  {
   "cell_type": "code",
   "execution_count": 11,
   "metadata": {
    "pycharm": {
     "is_executing": false,
     "name": "#%%\n"
    }
   },
   "outputs": [
    {
     "name": "stdout",
     "output_type": "stream",
     "text": [
      "I am 34 years old\n"
     ]
    }
   ],
   "source": [
    "age = 34\n",
    "print(\"I am {} years old\".format(age))\n",
    "\n"
   ]
  },
  {
   "cell_type": "markdown",
   "metadata": {},
   "source": [
    "You can also change the format of values by adding parameters inside the curly brackets."
   ]
  },
  {
   "cell_type": "code",
   "execution_count": 18,
   "metadata": {
    "pycharm": {
     "is_executing": false,
     "name": "#%%\n"
    }
   },
   "outputs": [
    {
     "name": "stdout",
     "output_type": "stream",
     "text": [
      "I am 34 years old\n",
      "I am 34.000000 years old\n",
      "I am 34.0 years old\n",
      "I am 34.00 years old\n"
     ]
    }
   ],
   "source": [
    "age = 34\n",
    "print(\"I am {:d} years old\".format(age))\n",
    "print(\"I am {:f} years old\".format(age))\n",
    "print(\"I am {:.1f} years old\".format(age))\n",
    "print(\"I am {:.2f} years old\".format(age))\n",
    "\n"
   ]
  },
  {
   "cell_type": "markdown",
   "metadata": {},
   "source": [
    "You can also control more than one part of the sting using placeholder, number index, and named index."
   ]
  },
  {
   "cell_type": "code",
   "execution_count": 37,
   "metadata": {
    "pycharm": {
     "is_executing": false,
     "name": "#%%\n"
    }
   },
   "outputs": [
    {
     "data": {
      "text/plain": [
       "'I am 23 years old, 5.7 tall, and 78.34 kg.'"
      ]
     },
     "execution_count": 37,
     "metadata": {},
     "output_type": "execute_result"
    }
   ],
   "source": [
    "#Placeholder\n",
    "age, height, weight = 23, 5.67, 78.34\n",
    "\n",
    "stringVar = \"I am {:d} years old, {:.1f} tall, and {:.2f} kg.\"\n",
    "stringVar.format(age, height, weight)\n",
    "\n"
   ]
  },
  {
   "cell_type": "code",
   "execution_count": 39,
   "metadata": {
    "pycharm": {
     "is_executing": false,
     "name": "#%%\n"
    }
   },
   "outputs": [
    {
     "data": {
      "text/plain": [
       "'I am 23 years old, 5.7 tall, and 78.34 kg. My brother has the same weight, 78.34'"
      ]
     },
     "execution_count": 39,
     "metadata": {},
     "output_type": "execute_result"
    }
   ],
   "source": [
    "#Number index\n",
    "stringVar = \"I am {0:d} years old, {1:.1f} tall, and {2:.2f} kg. My brother has the same weight, {2:.2f}\"\n",
    "stringVar.format(age, height, weight)"
   ]
  },
  {
   "cell_type": "code",
   "execution_count": 42,
   "metadata": {
    "pycharm": {
     "is_executing": false,
     "name": "#%%\n"
    }
   },
   "outputs": [
    {
     "data": {
      "text/plain": [
       "'I am 23 years old, 176 tall, and 90 kg. My brother has the same weight, 90'"
      ]
     },
     "execution_count": 42,
     "metadata": {},
     "output_type": "execute_result"
    }
   ],
   "source": [
    "#Named index\n",
    "\n",
    "stringVar = \"I am {age} years old, {height} tall, and {weight} kg. My brother has the same weight, {weight}\"\n",
    "stringVar.format(age = 23, height = 176, weight = 90)\n"
   ]
  }
 ],
 "metadata": {
  "kernelspec": {
   "display_name": "Python 3",
   "language": "python",
   "name": "python3"
  },
  "language_info": {
   "codemirror_mode": {
    "name": "ipython",
    "version": 3
   },
   "file_extension": ".py",
   "mimetype": "text/x-python",
   "name": "python",
   "nbconvert_exporter": "python",
   "pygments_lexer": "ipython3",
   "version": "3.7.5"
  },
  "pycharm": {
   "stem_cell": {
    "cell_type": "raw",
    "metadata": {
     "collapsed": false
    },
    "source": []
   }
  }
 },
 "nbformat": 4,
 "nbformat_minor": 1
}
