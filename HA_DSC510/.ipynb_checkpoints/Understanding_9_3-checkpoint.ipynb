{
 "cells": [
  {
   "cell_type": "markdown",
   "metadata": {},
   "source": [
    "# Error\n",
    "\n",
    "There are three kinds of error:  \n",
    "+ Syntax errors: This error happens when the code is grammatically wrong, therefore causing an issue when Python is translating the source code to binary code.\n",
    "+ Runtime errors: This error happens during the program run time because something goes wrong. For example, a function is trying to divide a number by zero, it will throw math error.\n",
    "+ Semantic errors: This error happens when the program doesn't work as expected even though it runs without any error. This may be caused by incorrect logic in the source code.\n",
    "\n",
    "## Syntax errors\n",
    "\n",
    "Syntax error occurs when a programmer didn't use the correct Python syntax. If the programmer is using any modern IDE such as PyCharm, the this type of error is easy to catch because the IDE will highlight what is wrong. There are come rules of thumbs to avoid syntax error:\n",
    "\n",
    "+ Do not use Python keyword for a variable name or function name.\n",
    "+ Check colon after for, if, class, def, while statements.\n",
    "+ Check matching quotation marks. \"\" or ''\n",
    "+ Check matching curly brackets and parenthesis. {} and () \n",
    "+ Check matching square brackets. []\n",
    "+ Check if operators are properly used. = or ==\n",
    "\n",
    "## Run Time Error\n",
    "\n",
    "The source code might be grammatically correct so that the IDE didn't indicate any occurrence of error and it will get compiled. However, when running the program, if something goes wrong and the program stops, it is a run time error. \n",
    "\n",
    "If we run the program and it seems to do nothing, then we might want to check the flow of execution of codes. The order of functions might not be right. Also, there can be a infinite loop accidentally put into codes.\n",
    "\n",
    "There are cases that users would get a clear exception messages. Those messages could be NameError, TypeError, KeyError, AttributeError, and IndexError. In this case, the programmer would need to use tyr - exception statement to handle those exception in an appropriate way. \n",
    "\n",
    "## Semantic Errors\n",
    "\n",
    "Lastly, the IDE doesn't tell anything wrong and the program runs without any exception, but the results are not what we first designed. That's why this type of error is the hardest one to catch. The first thing we would need to do is to compare the requirements against the outcomes out of the program. The best way to do so efficiently is to break the entire code into smaller building blocks and set up a test case for each building block. Each building block should produce the desired outcomes, otherwise the building block would have semantic errors in it. Then, break the building block causing the error even further down to smaller components and repeat unit testing on each components. Factoring and rewriting codes simpler would be a good practice."
   ]
  },
  {
   "cell_type": "markdown",
   "metadata": {
    "pycharm": {
     "name": "#%% md\n"
    }
   },
   "source": [
    "# Try and Exception Statement\n",
    "\n",
    "The basic syntax of try and exception statement is shown below:\n"
   ]
  },
  {
   "cell_type": "code",
   "execution_count": 3,
   "metadata": {
    "pycharm": {
     "is_executing": false,
     "name": "#%%\n"
    }
   },
   "outputs": [
    {
     "name": "stdout",
     "output_type": "stream",
     "text": [
      "Exception happens\n",
      "division by zero\n",
      "Reassignment values to variables\n"
     ]
    }
   ],
   "source": [
    "a = 8\n",
    "b = 0\n",
    "try:\n",
    "    c = a / b\n",
    "except Exception as e:\n",
    "    print(\"Exception happens\")\n",
    "    print(e)\n",
    "finally:\n",
    "    print(\"Reassignment values to variables\")\n",
    "    \n"
   ]
  }
 ],
 "metadata": {
  "kernelspec": {
   "display_name": "Python 3",
   "language": "python",
   "name": "python3"
  },
  "language_info": {
   "codemirror_mode": {
    "name": "ipython",
    "version": 3
   },
   "file_extension": ".py",
   "mimetype": "text/x-python",
   "name": "python",
   "nbconvert_exporter": "python",
   "pygments_lexer": "ipython3",
   "version": "3.7.5"
  },
  "pycharm": {
   "stem_cell": {
    "cell_type": "raw",
    "metadata": {
     "collapsed": false
    },
    "source": []
   }
  }
 },
 "nbformat": 4,
 "nbformat_minor": 1
}
