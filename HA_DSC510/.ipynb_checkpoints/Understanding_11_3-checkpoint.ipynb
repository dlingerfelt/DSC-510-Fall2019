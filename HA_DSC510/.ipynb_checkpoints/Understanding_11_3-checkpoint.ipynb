{
 "cells": [
  {
   "cell_type": "markdown",
   "metadata": {
    "collapsed": true,
    "pycharm": {
     "name": "#%% md\n"
    }
   },
   "source": [
    "# Class and Methods\n",
    "\n",
    "## Object-oriented features\n",
    "\n",
    "Python is an object-oriented programming language. Some of the characteristics of OOP language can be defined as follows:\n",
    "\n",
    "- Programs are most likely made of class definition and function definition, and most of the computation is through operations on objects of such\n",
    "- Class definition is matching to an object in the real world, and class members and class methods are corresponding to object attributes and actions of the real objects\n",
    "\n",
    "In particular, we can also define a method as similar to a function, but the major difference between a method and a function are:\n",
    "\n",
    "- The method is implicitly used for an object for which it is called.\n",
    "- The method is accessible to data that is contained within the class.\n",
    "- In short, methods are associated with object/classes while functions are not.\n",
    "\n",
    "## Initialization method\n",
    "\n",
    "Python has a special initialization method that is invoked when an object is created. It is __init__. "
   ]
  },
  {
   "cell_type": "code",
   "execution_count": 7,
   "metadata": {
    "pycharm": {
     "is_executing": false,
     "name": "#%%\n"
    }
   },
   "outputs": [
    {
     "name": "stdout",
     "output_type": "stream",
     "text": [
      "13:20:10\n",
      "None\n"
     ]
    }
   ],
   "source": [
    "class Time:\n",
    "    def __init__(self, hr=0, min=0, sec=0):\n",
    "        self.hr = hr\n",
    "        self.min = min\n",
    "        self.sec = sec\n",
    "    \n",
    "    def print_time(self):\n",
    "        print('{}:{}:{}'.format(self.hr, self.min, self.sec))\n",
    "        \n",
    "time = Time(13, 20, 10)\n",
    "print(time.print_time())\n"
   ]
  }
 ],
 "metadata": {
  "kernelspec": {
   "display_name": "Python 3",
   "language": "python",
   "name": "python3"
  },
  "language_info": {
   "codemirror_mode": {
    "name": "ipython",
    "version": 3
   },
   "file_extension": ".py",
   "mimetype": "text/x-python",
   "name": "python",
   "nbconvert_exporter": "python",
   "pygments_lexer": "ipython3",
   "version": "3.7.5"
  },
  "pycharm": {
   "stem_cell": {
    "cell_type": "raw",
    "metadata": {
     "collapsed": false
    },
    "source": []
   }
  }
 },
 "nbformat": 4,
 "nbformat_minor": 1
}
