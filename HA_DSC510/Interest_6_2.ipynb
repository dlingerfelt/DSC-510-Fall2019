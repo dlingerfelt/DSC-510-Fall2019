{
 "cells": [
  {
   "cell_type": "markdown",
   "metadata": {
    "collapsed": true,
    "pycharm": {
     "name": "#%% md\n"
    }
   },
   "source": [
    "# Strings\n",
    "\n",
    "## Loop\n",
    "\n",
    "Strings are made up of smaller pieces (character), thus called a compound data type. Each character in a sting can be indexed as if a list is indexed. Also, we can use *for^ statement to loop through a string."
   ]
  },
  {
   "cell_type": "code",
   "execution_count": 6,
   "outputs": [
    {
     "name": "stdout",
     "text": [
      "0 1 2 3 4 5 \n-----------\nP y t h o n "
     ],
     "output_type": "stream"
    }
   ],
   "source": [
    "string_1 = 'Python'\n",
    "for index in range(len(string_1)):\n",
    "    print(index, end=' ')\n",
    "print()\n",
    "print('-----------') \n",
    "for char in string_1:\n",
    "    print(char, end=' ')"
   ],
   "metadata": {
    "collapsed": false,
    "pycharm": {
     "name": "#%%\n",
     "is_executing": false
    }
   }
  },
  {
   "cell_type": "markdown",
   "source": [
    "One can use *while* statement to loop through a string. However, when comparing for and while, then using for is more efficient and intuitive. "
   ],
   "metadata": {
    "collapsed": false,
    "pycharm": {
     "name": "#%% md\n"
    }
   }
  },
  {
   "cell_type": "code",
   "execution_count": 8,
   "outputs": [
    {
     "name": "stdout",
     "text": [
      "P y t h o n "
     ],
     "output_type": "stream"
    }
   ],
   "source": [
    "index = 0\n",
    "while index < len(string_1):\n",
    "    print(string_1[index], end=' ')\n",
    "    index += 1"
   ],
   "metadata": {
    "collapsed": false,
    "pycharm": {
     "name": "#%%\n",
     "is_executing": false
    }
   }
  },
  {
   "cell_type": "markdown",
   "source": [
    "## Slicing\n",
    "\n",
    "A string can be sliced using [n:m]. n will be included but m will not be included. If the first index is omitted, the slice starts at the beginning of the string. If the second index is omitted, the the slice goes to the end of the string."
   ],
   "metadata": {
    "collapsed": false,
    "pycharm": {
     "name": "#%% md\n"
    }
   }
  },
  {
   "cell_type": "code",
   "execution_count": 12,
   "outputs": [
    {
     "name": "stdout",
     "text": [
      "Python\n"
     ],
     "output_type": "stream"
    }
   ],
   "source": [
    "print(string_1[0:6])"
   ],
   "metadata": {
    "collapsed": false,
    "pycharm": {
     "name": "#%%\n",
     "is_executing": false
    }
   }
  },
  {
   "cell_type": "code",
   "execution_count": 13,
   "outputs": [
    {
     "name": "stdout",
     "text": [
      "Pytho\n"
     ],
     "output_type": "stream"
    }
   ],
   "source": [
    "print(string_1[0:5])"
   ],
   "metadata": {
    "collapsed": false,
    "pycharm": {
     "name": "#%%\n",
     "is_executing": false
    }
   }
  },
  {
   "cell_type": "code",
   "execution_count": 14,
   "outputs": [
    {
     "name": "stdout",
     "text": [
      "Python\n"
     ],
     "output_type": "stream"
    }
   ],
   "source": [
    "print(string_1[0:])"
   ],
   "metadata": {
    "collapsed": false,
    "pycharm": {
     "name": "#%%\n",
     "is_executing": false
    }
   }
  },
  {
   "cell_type": "code",
   "execution_count": 15,
   "outputs": [
    {
     "name": "stdout",
     "text": [
      "Python\n"
     ],
     "output_type": "stream"
    }
   ],
   "source": [
    "print(string_1[:6])"
   ],
   "metadata": {
    "collapsed": false,
    "pycharm": {
     "name": "#%%\n",
     "is_executing": false
    }
   }
  },
  {
   "cell_type": "markdown",
   "source": [
    "## String Module\n",
    "\n",
    "The string module has many useful functions to manipulate strings. One of the functions is *find* function. It returns the first index of strings in search."
   ],
   "metadata": {
    "collapsed": false,
    "pycharm": {
     "name": "#%% md\n"
    }
   }
  },
  {
   "cell_type": "code",
   "execution_count": 16,
   "outputs": [
    {
     "name": "stdout",
     "text": [
      "10\n"
     ],
     "output_type": "stream"
    }
   ],
   "source": [
    "string_2 = 'Python is a programming language'\n",
    "print(string_2.find('a'))"
   ],
   "metadata": {
    "collapsed": false,
    "pycharm": {
     "name": "#%%\n",
     "is_executing": false
    }
   }
  },
  {
   "cell_type": "markdown",
   "source": [
    "Behind the scene, the function does following:"
   ],
   "metadata": {
    "collapsed": false,
    "pycharm": {
     "name": "#%% md\n"
    }
   }
  },
  {
   "cell_type": "code",
   "execution_count": 21,
   "outputs": [
    {
     "data": {
      "text/plain": "4"
     },
     "metadata": {},
     "output_type": "execute_result",
     "execution_count": 21
    }
   ],
   "source": [
    "def find(str, ch):\n",
    "    index = 0\n",
    "    while index < len(str):\n",
    "        if str[index] == ch:\n",
    "            return index\n",
    "        index += 1\n",
    "    return -1\n",
    "\n",
    "find('Python Programming', 'o')"
   ],
   "metadata": {
    "collapsed": false,
    "pycharm": {
     "name": "#%%\n",
     "is_executing": false
    }
   }
  },
  {
   "cell_type": "markdown",
   "source": [
    "Also, we can use *count* to get the number of a character appeared in a string"
   ],
   "metadata": {
    "collapsed": false,
    "pycharm": {
     "name": "#%% md\n"
    }
   }
  },
  {
   "cell_type": "code",
   "execution_count": 26,
   "outputs": [
    {
     "data": {
      "text/plain": "2"
     },
     "metadata": {},
     "output_type": "execute_result",
     "execution_count": 26
    }
   ],
   "source": [
    "string_3 = 'This is a Python program'\n",
    "string_3.count('s')"
   ],
   "metadata": {
    "collapsed": false,
    "pycharm": {
     "name": "#%%\n",
     "is_executing": false
    }
   }
  },
  {
   "cell_type": "markdown",
   "source": [
    "Behind the scene, Python would do following:"
   ],
   "metadata": {
    "collapsed": false,
    "pycharm": {
     "name": "#%% md\n"
    }
   }
  },
  {
   "cell_type": "code",
   "execution_count": 28,
   "outputs": [
    {
     "name": "stdout",
     "text": [
      "4\n"
     ],
     "output_type": "stream"
    }
   ],
   "source": [
    "def count(str, ch):\n",
    "    count = 0\n",
    "    for c in str:\n",
    "        if c == ch:\n",
    "            count += 1\n",
    "    print(count)\n",
    "\n",
    "count('000aabbccddaa', 'a')\n"
   ],
   "metadata": {
    "collapsed": false,
    "pycharm": {
     "name": "#%%\n",
     "is_executing": false
    }
   }
  },
  {
   "cell_type": "markdown",
   "source": [
    "# List\n",
    "\n",
    "A list is an ordered set of values, where each value is indexed. The value in the list is called element. List and String are called Sequence.\n",
    "\n",
    "You can create a list with [] or list() and add elements using append or insert methods."
   ],
   "metadata": {
    "collapsed": false
   }
  },
  {
   "cell_type": "code",
   "execution_count": 38,
   "outputs": [
    {
     "name": "stdout",
     "text": [
      "<class 'list'>\n<class 'list'>\n"
     ],
     "output_type": "stream"
    }
   ],
   "source": [
    "ls_1 = []\n",
    "ls_2 = list()\n",
    "\n",
    "print(type(ls_1))\n",
    "print(type(ls_2))"
   ],
   "metadata": {
    "collapsed": false,
    "pycharm": {
     "name": "#%%\n",
     "is_executing": false
    }
   }
  },
  {
   "cell_type": "code",
   "execution_count": 39,
   "outputs": [
    {
     "name": "stdout",
     "text": [
      "[[1, 2, 3]]\n"
     ],
     "output_type": "stream"
    }
   ],
   "source": [
    "# Append\n",
    "\n",
    "ls_1.append([1,2,3])\n",
    "print(ls_1)"
   ],
   "metadata": {
    "collapsed": false,
    "pycharm": {
     "name": "#%%\n",
     "is_executing": false
    }
   }
  },
  {
   "cell_type": "code",
   "execution_count": 51,
   "outputs": [
    {
     "name": "stdout",
     "text": [
      "[[1, 2, 3], 3, 2]\n"
     ],
     "output_type": "stream"
    }
   ],
   "source": [
    "# Insert\n",
    "ls_1.insert(1, 2)\n",
    "ls_1.insert(1, 3)\n",
    "\n",
    "print(ls_1)"
   ],
   "metadata": {
    "collapsed": false,
    "pycharm": {
     "name": "#%%\n",
     "is_executing": false
    }
   }
  },
  {
   "cell_type": "markdown",
   "source": [
    "In order to remove an element, you can either use remove or del function. "
   ],
   "metadata": {
    "collapsed": false,
    "pycharm": {
     "name": "#%% md\n"
    }
   }
  },
  {
   "cell_type": "code",
   "execution_count": 54,
   "outputs": [
    {
     "name": "stdout",
     "text": [
      "[[1, 2, 3], 3]\n"
     ],
     "output_type": "stream"
    }
   ],
   "source": [
    "ls_1.remove(2)\n",
    "print(ls_1)"
   ],
   "metadata": {
    "collapsed": false,
    "pycharm": {
     "name": "#%%\n",
     "is_executing": false
    }
   }
  },
  {
   "cell_type": "code",
   "execution_count": 56,
   "outputs": [
    {
     "name": "stdout",
     "text": [
      "[3]\n"
     ],
     "output_type": "stream"
    }
   ],
   "source": [
    "del ls_1[0]\n",
    "print(ls_1)"
   ],
   "metadata": {
    "collapsed": false,
    "pycharm": {
     "name": "#%%\n",
     "is_executing": false
    }
   }
  },
  {
   "cell_type": "markdown",
   "source": [
    "## Useful Expression: comprehension\n",
    "\n",
    "I like to introduce one useful expresion to create a list using a loop and conditional statement. The code will use the variable x in range(1, 10), test if the number is odd or even, and raise it to the power of two if the number is odd in one statement."
   ],
   "metadata": {
    "collapsed": false,
    "pycharm": {
     "name": "#%% md\n"
    }
   }
  },
  {
   "cell_type": "code",
   "execution_count": 57,
   "outputs": [
    {
     "name": "stdout",
     "text": [
      "[4, 16, 36, 64]\n"
     ],
     "output_type": "stream"
    }
   ],
   "source": [
    "x = range(1, 10)\n",
    "ls_2 = [i**2 for i in x if i % 2 == 0]\n",
    "print(ls_2)"
   ],
   "metadata": {
    "collapsed": false,
    "pycharm": {
     "name": "#%%\n",
     "is_executing": false
    }
   }
  },
  {
   "cell_type": "markdown",
   "source": [
    "References  \n",
    "Beazley, D. & Jones, B. K. (2013). Python Cookbook. Sebastopol, CA: O’Reilly Media, Inc.  \n",
    "Mitchell, Ryan (2015). Web Scraping with Python. Sebastopol, CA: O’Reilly Media, Inc.  \n",
    "Severance. C. R. (2009). Python for Everybody. http://do1.dr-chuck.com/pythonlearn/EN_us/pythonlearn.pdf  \n",
    "https://www.w3schools.com/python/default.asp \n",
    "\n"
   ],
   "metadata": {
    "collapsed": false,
    "pycharm": {
     "name": "#%% md\n"
    }
   }
  }
 ],
 "metadata": {
  "kernelspec": {
   "display_name": "Python 3",
   "language": "python",
   "name": "python3"
  },
  "language_info": {
   "codemirror_mode": {
    "name": "ipython",
    "version": 2
   },
   "file_extension": ".py",
   "mimetype": "text/x-python",
   "name": "python",
   "nbconvert_exporter": "python",
   "pygments_lexer": "ipython2",
   "version": "2.7.6"
  },
  "pycharm": {
   "stem_cell": {
    "cell_type": "raw",
    "source": [],
    "metadata": {
     "collapsed": false
    }
   }
  }
 },
 "nbformat": 4,
 "nbformat_minor": 0
}